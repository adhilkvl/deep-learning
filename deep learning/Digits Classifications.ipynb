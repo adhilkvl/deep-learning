{
 "cells": [
  {
   "cell_type": "code",
   "execution_count": 1,
   "id": "71190c4d",
   "metadata": {},
   "outputs": [
    {
     "name": "stdout",
     "output_type": "stream",
     "text": [
      "Collecting tensorflow\n",
      "  Obtaining dependency information for tensorflow from https://files.pythonhosted.org/packages/93/21/9b035a4f823d6aee2917c75415be9a95861ff3d73a0a65e48edbf210cec1/tensorflow-2.15.0-cp311-cp311-win_amd64.whl.metadata\n",
      "  Downloading tensorflow-2.15.0-cp311-cp311-win_amd64.whl.metadata (3.6 kB)\n",
      "Collecting tensorflow-intel==2.15.0 (from tensorflow)\n",
      "  Obtaining dependency information for tensorflow-intel==2.15.0 from https://files.pythonhosted.org/packages/4c/48/1a5a15517f18eaa4ff8d598b1c000300b20c1bb0e624539d702117a0c369/tensorflow_intel-2.15.0-cp311-cp311-win_amd64.whl.metadata\n",
      "  Downloading tensorflow_intel-2.15.0-cp311-cp311-win_amd64.whl.metadata (5.1 kB)\n",
      "Collecting absl-py>=1.0.0 (from tensorflow-intel==2.15.0->tensorflow)\n",
      "  Obtaining dependency information for absl-py>=1.0.0 from https://files.pythonhosted.org/packages/a2/ad/e0d3c824784ff121c03cc031f944bc7e139a8f1870ffd2845cc2dd76f6c4/absl_py-2.1.0-py3-none-any.whl.metadata\n",
      "  Downloading absl_py-2.1.0-py3-none-any.whl.metadata (2.3 kB)\n",
      "Collecting astunparse>=1.6.0 (from tensorflow-intel==2.15.0->tensorflow)\n",
      "  Downloading astunparse-1.6.3-py2.py3-none-any.whl (12 kB)\n",
      "Collecting flatbuffers>=23.5.26 (from tensorflow-intel==2.15.0->tensorflow)\n",
      "  Obtaining dependency information for flatbuffers>=23.5.26 from https://files.pythonhosted.org/packages/6f/12/d5c79ee252793ffe845d58a913197bfa02ae9a0b5c9bc3dc4b58d477b9e7/flatbuffers-23.5.26-py2.py3-none-any.whl.metadata\n",
      "  Downloading flatbuffers-23.5.26-py2.py3-none-any.whl.metadata (850 bytes)\n",
      "Collecting gast!=0.5.0,!=0.5.1,!=0.5.2,>=0.2.1 (from tensorflow-intel==2.15.0->tensorflow)\n",
      "  Obtaining dependency information for gast!=0.5.0,!=0.5.1,!=0.5.2,>=0.2.1 from https://files.pythonhosted.org/packages/fa/39/5aae571e5a5f4de9c3445dae08a530498e5c53b0e74410eeeb0991c79047/gast-0.5.4-py3-none-any.whl.metadata\n",
      "  Downloading gast-0.5.4-py3-none-any.whl.metadata (1.3 kB)\n",
      "Collecting google-pasta>=0.1.1 (from tensorflow-intel==2.15.0->tensorflow)\n",
      "  Downloading google_pasta-0.2.0-py3-none-any.whl (57 kB)\n",
      "     ---------------------------------------- 0.0/57.5 kB ? eta -:--:--\n",
      "     ---------------------------------------- 57.5/57.5 kB 3.0 MB/s eta 0:00:00\n",
      "Requirement already satisfied: h5py>=2.9.0 in c:\\users\\hp\\anaconda3\\lib\\site-packages (from tensorflow-intel==2.15.0->tensorflow) (3.9.0)\n",
      "Collecting libclang>=13.0.0 (from tensorflow-intel==2.15.0->tensorflow)\n",
      "  Obtaining dependency information for libclang>=13.0.0 from https://files.pythonhosted.org/packages/02/8c/dc970bc00867fe290e8c8a7befa1635af716a9ebdfe3fb9dce0ca4b522ce/libclang-16.0.6-py2.py3-none-win_amd64.whl.metadata\n",
      "  Downloading libclang-16.0.6-py2.py3-none-win_amd64.whl.metadata (5.3 kB)\n",
      "Collecting ml-dtypes~=0.2.0 (from tensorflow-intel==2.15.0->tensorflow)\n",
      "  Obtaining dependency information for ml-dtypes~=0.2.0 from https://files.pythonhosted.org/packages/08/89/c727fde1a3d12586e0b8c01abf53754707d76beaa9987640e70807d4545f/ml_dtypes-0.2.0-cp311-cp311-win_amd64.whl.metadata\n",
      "  Downloading ml_dtypes-0.2.0-cp311-cp311-win_amd64.whl.metadata (20 kB)\n",
      "Requirement already satisfied: numpy<2.0.0,>=1.23.5 in c:\\users\\hp\\anaconda3\\lib\\site-packages (from tensorflow-intel==2.15.0->tensorflow) (1.24.3)\n",
      "Collecting opt-einsum>=2.3.2 (from tensorflow-intel==2.15.0->tensorflow)\n",
      "  Downloading opt_einsum-3.3.0-py3-none-any.whl (65 kB)\n",
      "     ---------------------------------------- 0.0/65.5 kB ? eta -:--:--\n",
      "     ---------------------------------------- 65.5/65.5 kB 3.5 MB/s eta 0:00:00\n",
      "Requirement already satisfied: packaging in c:\\users\\hp\\anaconda3\\lib\\site-packages (from tensorflow-intel==2.15.0->tensorflow) (23.1)\n",
      "Collecting protobuf!=4.21.0,!=4.21.1,!=4.21.2,!=4.21.3,!=4.21.4,!=4.21.5,<5.0.0dev,>=3.20.3 (from tensorflow-intel==2.15.0->tensorflow)\n",
      "  Obtaining dependency information for protobuf!=4.21.0,!=4.21.1,!=4.21.2,!=4.21.3,!=4.21.4,!=4.21.5,<5.0.0dev,>=3.20.3 from https://files.pythonhosted.org/packages/ad/6e/1bed3b7c904cc178cb8ee8dbaf72934964452b3de95b7a63412591edb93c/protobuf-4.25.3-cp310-abi3-win_amd64.whl.metadata\n",
      "  Downloading protobuf-4.25.3-cp310-abi3-win_amd64.whl.metadata (541 bytes)\n",
      "Requirement already satisfied: setuptools in c:\\users\\hp\\anaconda3\\lib\\site-packages (from tensorflow-intel==2.15.0->tensorflow) (68.0.0)\n",
      "Requirement already satisfied: six>=1.12.0 in c:\\users\\hp\\anaconda3\\lib\\site-packages (from tensorflow-intel==2.15.0->tensorflow) (1.16.0)\n",
      "Collecting termcolor>=1.1.0 (from tensorflow-intel==2.15.0->tensorflow)\n",
      "  Obtaining dependency information for termcolor>=1.1.0 from https://files.pythonhosted.org/packages/d9/5f/8c716e47b3a50cbd7c146f45881e11d9414def768b7cd9c5e6650ec2a80a/termcolor-2.4.0-py3-none-any.whl.metadata\n",
      "  Downloading termcolor-2.4.0-py3-none-any.whl.metadata (6.1 kB)\n",
      "Requirement already satisfied: typing-extensions>=3.6.6 in c:\\users\\hp\\anaconda3\\lib\\site-packages (from tensorflow-intel==2.15.0->tensorflow) (4.7.1)\n",
      "Requirement already satisfied: wrapt<1.15,>=1.11.0 in c:\\users\\hp\\anaconda3\\lib\\site-packages (from tensorflow-intel==2.15.0->tensorflow) (1.14.1)\n",
      "Collecting tensorflow-io-gcs-filesystem>=0.23.1 (from tensorflow-intel==2.15.0->tensorflow)\n",
      "  Obtaining dependency information for tensorflow-io-gcs-filesystem>=0.23.1 from https://files.pythonhosted.org/packages/ac/4e/9566a313927be582ca99455a9523a097c7888fc819695bdc08415432b202/tensorflow_io_gcs_filesystem-0.31.0-cp311-cp311-win_amd64.whl.metadata\n",
      "  Downloading tensorflow_io_gcs_filesystem-0.31.0-cp311-cp311-win_amd64.whl.metadata (14 kB)\n",
      "Collecting grpcio<2.0,>=1.24.3 (from tensorflow-intel==2.15.0->tensorflow)\n",
      "  Obtaining dependency information for grpcio<2.0,>=1.24.3 from https://files.pythonhosted.org/packages/02/2b/f1a3b06576a33f3a5b7b2f53cafaf3c2f11a1886c1ae7056ae17e82e4573/grpcio-1.62.0-cp311-cp311-win_amd64.whl.metadata\n",
      "  Downloading grpcio-1.62.0-cp311-cp311-win_amd64.whl.metadata (4.2 kB)\n",
      "Collecting tensorboard<2.16,>=2.15 (from tensorflow-intel==2.15.0->tensorflow)\n",
      "  Obtaining dependency information for tensorboard<2.16,>=2.15 from https://files.pythonhosted.org/packages/37/12/f6e9b9dcc310263cbd3948274e286538bd6800fd0c268850788f14a0c6d0/tensorboard-2.15.2-py3-none-any.whl.metadata\n",
      "  Downloading tensorboard-2.15.2-py3-none-any.whl.metadata (1.7 kB)\n",
      "Collecting tensorflow-estimator<2.16,>=2.15.0 (from tensorflow-intel==2.15.0->tensorflow)\n",
      "  Obtaining dependency information for tensorflow-estimator<2.16,>=2.15.0 from https://files.pythonhosted.org/packages/b6/c8/2f823c8958d5342eafc6dd3e922f0cc4fcf8c2e0460284cc462dae3b60a0/tensorflow_estimator-2.15.0-py2.py3-none-any.whl.metadata\n",
      "  Downloading tensorflow_estimator-2.15.0-py2.py3-none-any.whl.metadata (1.3 kB)\n",
      "Collecting keras<2.16,>=2.15.0 (from tensorflow-intel==2.15.0->tensorflow)\n",
      "  Obtaining dependency information for keras<2.16,>=2.15.0 from https://files.pythonhosted.org/packages/fc/a7/0d4490de967a67f68a538cc9cdb259bff971c4b5787f7765dc7c8f118f71/keras-2.15.0-py3-none-any.whl.metadata\n",
      "  Downloading keras-2.15.0-py3-none-any.whl.metadata (2.4 kB)\n",
      "Requirement already satisfied: wheel<1.0,>=0.23.0 in c:\\users\\hp\\anaconda3\\lib\\site-packages (from astunparse>=1.6.0->tensorflow-intel==2.15.0->tensorflow) (0.38.4)\n",
      "Collecting google-auth<3,>=1.6.3 (from tensorboard<2.16,>=2.15->tensorflow-intel==2.15.0->tensorflow)\n",
      "  Obtaining dependency information for google-auth<3,>=1.6.3 from https://files.pythonhosted.org/packages/b7/1d/f152a5f6d243b6acbb2a710ed19aa47154d678359bed995abdd9daf0cff0/google_auth-2.28.1-py2.py3-none-any.whl.metadata\n",
      "  Downloading google_auth-2.28.1-py2.py3-none-any.whl.metadata (4.7 kB)\n",
      "Collecting google-auth-oauthlib<2,>=0.5 (from tensorboard<2.16,>=2.15->tensorflow-intel==2.15.0->tensorflow)\n",
      "  Obtaining dependency information for google-auth-oauthlib<2,>=0.5 from https://files.pythonhosted.org/packages/71/bf/9e125754d1adb3bc4bd206c4e5df756513b1d23675ac06caa471278d1f3f/google_auth_oauthlib-1.2.0-py2.py3-none-any.whl.metadata\n",
      "  Downloading google_auth_oauthlib-1.2.0-py2.py3-none-any.whl.metadata (2.7 kB)\n",
      "Requirement already satisfied: markdown>=2.6.8 in c:\\users\\hp\\anaconda3\\lib\\site-packages (from tensorboard<2.16,>=2.15->tensorflow-intel==2.15.0->tensorflow) (3.4.1)\n",
      "Requirement already satisfied: requests<3,>=2.21.0 in c:\\users\\hp\\anaconda3\\lib\\site-packages (from tensorboard<2.16,>=2.15->tensorflow-intel==2.15.0->tensorflow) (2.31.0)\n",
      "Collecting tensorboard-data-server<0.8.0,>=0.7.0 (from tensorboard<2.16,>=2.15->tensorflow-intel==2.15.0->tensorflow)\n",
      "  Obtaining dependency information for tensorboard-data-server<0.8.0,>=0.7.0 from https://files.pythonhosted.org/packages/7a/13/e503968fefabd4c6b2650af21e110aa8466fe21432cd7c43a84577a89438/tensorboard_data_server-0.7.2-py3-none-any.whl.metadata\n",
      "  Downloading tensorboard_data_server-0.7.2-py3-none-any.whl.metadata (1.1 kB)\n",
      "Requirement already satisfied: werkzeug>=1.0.1 in c:\\users\\hp\\anaconda3\\lib\\site-packages (from tensorboard<2.16,>=2.15->tensorflow-intel==2.15.0->tensorflow) (2.2.3)\n",
      "Collecting cachetools<6.0,>=2.0.0 (from google-auth<3,>=1.6.3->tensorboard<2.16,>=2.15->tensorflow-intel==2.15.0->tensorflow)\n",
      "  Obtaining dependency information for cachetools<6.0,>=2.0.0 from https://files.pythonhosted.org/packages/fb/2b/a64c2d25a37aeb921fddb929111413049fc5f8b9a4c1aefaffaafe768d54/cachetools-5.3.3-py3-none-any.whl.metadata\n",
      "  Downloading cachetools-5.3.3-py3-none-any.whl.metadata (5.3 kB)\n",
      "Requirement already satisfied: pyasn1-modules>=0.2.1 in c:\\users\\hp\\anaconda3\\lib\\site-packages (from google-auth<3,>=1.6.3->tensorboard<2.16,>=2.15->tensorflow-intel==2.15.0->tensorflow) (0.2.8)\n",
      "Collecting rsa<5,>=3.1.4 (from google-auth<3,>=1.6.3->tensorboard<2.16,>=2.15->tensorflow-intel==2.15.0->tensorflow)\n",
      "  Obtaining dependency information for rsa<5,>=3.1.4 from https://files.pythonhosted.org/packages/49/97/fa78e3d2f65c02c8e1268b9aba606569fe97f6c8f7c2d74394553347c145/rsa-4.9-py3-none-any.whl.metadata\n",
      "  Downloading rsa-4.9-py3-none-any.whl.metadata (4.2 kB)\n",
      "Collecting requests-oauthlib>=0.7.0 (from google-auth-oauthlib<2,>=0.5->tensorboard<2.16,>=2.15->tensorflow-intel==2.15.0->tensorflow)\n",
      "  Obtaining dependency information for requests-oauthlib>=0.7.0 from https://files.pythonhosted.org/packages/6f/bb/5deac77a9af870143c684ab46a7934038a53eb4aa975bc0687ed6ca2c610/requests_oauthlib-1.3.1-py2.py3-none-any.whl.metadata\n",
      "  Downloading requests_oauthlib-1.3.1-py2.py3-none-any.whl.metadata (10 kB)\n",
      "Requirement already satisfied: charset-normalizer<4,>=2 in c:\\users\\hp\\anaconda3\\lib\\site-packages (from requests<3,>=2.21.0->tensorboard<2.16,>=2.15->tensorflow-intel==2.15.0->tensorflow) (2.0.4)\n",
      "Requirement already satisfied: idna<4,>=2.5 in c:\\users\\hp\\anaconda3\\lib\\site-packages (from requests<3,>=2.21.0->tensorboard<2.16,>=2.15->tensorflow-intel==2.15.0->tensorflow) (3.4)\n",
      "Requirement already satisfied: urllib3<3,>=1.21.1 in c:\\users\\hp\\anaconda3\\lib\\site-packages (from requests<3,>=2.21.0->tensorboard<2.16,>=2.15->tensorflow-intel==2.15.0->tensorflow) (1.26.16)\n",
      "Requirement already satisfied: certifi>=2017.4.17 in c:\\users\\hp\\anaconda3\\lib\\site-packages (from requests<3,>=2.21.0->tensorboard<2.16,>=2.15->tensorflow-intel==2.15.0->tensorflow) (2023.7.22)\n",
      "Requirement already satisfied: MarkupSafe>=2.1.1 in c:\\users\\hp\\anaconda3\\lib\\site-packages (from werkzeug>=1.0.1->tensorboard<2.16,>=2.15->tensorflow-intel==2.15.0->tensorflow) (2.1.1)\n",
      "Requirement already satisfied: pyasn1<0.5.0,>=0.4.6 in c:\\users\\hp\\anaconda3\\lib\\site-packages (from pyasn1-modules>=0.2.1->google-auth<3,>=1.6.3->tensorboard<2.16,>=2.15->tensorflow-intel==2.15.0->tensorflow) (0.4.8)\n",
      "Collecting oauthlib>=3.0.0 (from requests-oauthlib>=0.7.0->google-auth-oauthlib<2,>=0.5->tensorboard<2.16,>=2.15->tensorflow-intel==2.15.0->tensorflow)\n",
      "  Obtaining dependency information for oauthlib>=3.0.0 from https://files.pythonhosted.org/packages/7e/80/cab10959dc1faead58dc8384a781dfbf93cb4d33d50988f7a69f1b7c9bbe/oauthlib-3.2.2-py3-none-any.whl.metadata\n",
      "  Downloading oauthlib-3.2.2-py3-none-any.whl.metadata (7.5 kB)\n",
      "Downloading tensorflow-2.15.0-cp311-cp311-win_amd64.whl (2.1 kB)\n",
      "Downloading tensorflow_intel-2.15.0-cp311-cp311-win_amd64.whl (300.9 MB)\n",
      "   ---------------------------------------- 0.0/300.9 MB ? eta -:--:--\n",
      "   ---------------------------------------- 0.1/300.9 MB 5.1 MB/s eta 0:00:59\n",
      "   ---------------------------------------- 0.2/300.9 MB 2.5 MB/s eta 0:02:03\n",
      "   ---------------------------------------- 0.3/300.9 MB 2.7 MB/s eta 0:01:52\n",
      "   ---------------------------------------- 0.5/300.9 MB 2.7 MB/s eta 0:01:50\n",
      "   ---------------------------------------- 0.6/300.9 MB 2.8 MB/s eta 0:01:48\n",
      "   ---------------------------------------- 0.8/300.9 MB 2.8 MB/s eta 0:01:47\n",
      "   ---------------------------------------- 0.9/300.9 MB 2.8 MB/s eta 0:01:47\n",
      "   ---------------------------------------- 1.0/300.9 MB 2.9 MB/s eta 0:01:45\n",
      "   ---------------------------------------- 1.2/300.9 MB 2.9 MB/s eta 0:01:44\n",
      "   ---------------------------------------- 1.2/300.9 MB 2.8 MB/s eta 0:01:46\n",
      "   ---------------------------------------- 1.4/300.9 MB 2.8 MB/s eta 0:01:49\n",
      "   ---------------------------------------- 1.5/300.9 MB 2.8 MB/s eta 0:01:46\n",
      "   ---------------------------------------- 1.7/300.9 MB 2.8 MB/s eta 0:01:46\n",
      "   ---------------------------------------- 1.9/300.9 MB 3.0 MB/s eta 0:01:39\n",
      "   ---------------------------------------- 2.0/300.9 MB 3.0 MB/s eta 0:01:40\n",
      "   ---------------------------------------- 2.2/300.9 MB 3.0 MB/s eta 0:01:39\n",
      "   ---------------------------------------- 2.3/300.9 MB 3.0 MB/s eta 0:01:38\n",
      "   ---------------------------------------- 2.5/300.9 MB 3.1 MB/s eta 0:01:36\n",
      "   ---------------------------------------- 2.7/300.9 MB 3.1 MB/s eta 0:01:38\n",
      "   ---------------------------------------- 2.9/300.9 MB 3.2 MB/s eta 0:01:34\n",
      "   ---------------------------------------- 3.1/300.9 MB 3.2 MB/s eta 0:01:34\n",
      "   ---------------------------------------- 3.2/300.9 MB 3.2 MB/s eta 0:01:33\n",
      "   ---------------------------------------- 3.4/300.9 MB 3.2 MB/s eta 0:01:33\n",
      "   ---------------------------------------- 3.6/300.9 MB 3.2 MB/s eta 0:01:32\n",
      "    --------------------------------------- 3.8/300.9 MB 3.3 MB/s eta 0:01:31\n",
      "    --------------------------------------- 4.0/300.9 MB 3.3 MB/s eta 0:01:30\n",
      "    --------------------------------------- 4.1/300.9 MB 3.3 MB/s eta 0:01:30\n",
      "    --------------------------------------- 4.3/300.9 MB 3.4 MB/s eta 0:01:28\n",
      "    --------------------------------------- 4.5/300.9 MB 3.4 MB/s eta 0:01:28\n",
      "    --------------------------------------- 4.7/300.9 MB 3.4 MB/s eta 0:01:27\n",
      "    --------------------------------------- 5.0/300.9 MB 3.5 MB/s eta 0:01:25\n",
      "    --------------------------------------- 5.2/300.9 MB 3.5 MB/s eta 0:01:24\n",
      "    --------------------------------------- 5.4/300.9 MB 3.6 MB/s eta 0:01:23\n",
      "    --------------------------------------- 5.7/300.9 MB 3.6 MB/s eta 0:01:22\n",
      "    --------------------------------------- 5.8/300.9 MB 3.6 MB/s eta 0:01:22\n",
      "    --------------------------------------- 6.1/300.9 MB 3.6 MB/s eta 0:01:21\n",
      "    --------------------------------------- 6.3/300.9 MB 3.7 MB/s eta 0:01:20\n",
      "    --------------------------------------- 6.6/300.9 MB 3.7 MB/s eta 0:01:19\n",
      "    --------------------------------------- 6.8/300.9 MB 3.8 MB/s eta 0:01:18\n",
      "    --------------------------------------- 7.1/300.9 MB 3.8 MB/s eta 0:01:17\n",
      "    --------------------------------------- 7.3/300.9 MB 3.8 MB/s eta 0:01:17\n",
      "    --------------------------------------- 7.3/300.9 MB 3.8 MB/s eta 0:01:18\n",
      "   - -------------------------------------- 7.6/300.9 MB 3.8 MB/s eta 0:01:17\n",
      "   - -------------------------------------- 7.8/300.9 MB 3.8 MB/s eta 0:01:17\n",
      "   - -------------------------------------- 8.1/300.9 MB 3.9 MB/s eta 0:01:16\n",
      "   - -------------------------------------- 8.3/300.9 MB 3.9 MB/s eta 0:01:15\n",
      "   - -------------------------------------- 8.6/300.9 MB 3.9 MB/s eta 0:01:15\n",
      "   - -------------------------------------- 8.8/300.9 MB 4.0 MB/s eta 0:01:14\n",
      "   - -------------------------------------- 9.0/300.9 MB 4.0 MB/s eta 0:01:14\n",
      "   - -------------------------------------- 9.2/300.9 MB 4.0 MB/s eta 0:01:14\n",
      "   - -------------------------------------- 9.5/300.9 MB 4.0 MB/s eta 0:01:13\n",
      "   - -------------------------------------- 9.8/300.9 MB 4.1 MB/s eta 0:01:11\n",
      "   - -------------------------------------- 10.1/300.9 MB 4.1 MB/s eta 0:01:11\n",
      "   - -------------------------------------- 10.4/300.9 MB 4.2 MB/s eta 0:01:10\n",
      "   - -------------------------------------- 10.7/300.9 MB 4.3 MB/s eta 0:01:08\n",
      "   - -------------------------------------- 11.0/300.9 MB 4.5 MB/s eta 0:01:06\n",
      "   - -------------------------------------- 11.3/300.9 MB 4.5 MB/s eta 0:01:04\n",
      "   - -------------------------------------- 11.6/300.9 MB 4.7 MB/s eta 0:01:02\n",
      "   - -------------------------------------- 11.9/300.9 MB 4.8 MB/s eta 0:01:01\n",
      "   - -------------------------------------- 12.2/300.9 MB 4.8 MB/s eta 0:01:00\n",
      "   - -------------------------------------- 12.5/300.9 MB 5.0 MB/s eta 0:00:58\n",
      "   - -------------------------------------- 12.9/300.9 MB 5.1 MB/s eta 0:00:57\n",
      "   - -------------------------------------- 13.1/300.9 MB 5.2 MB/s eta 0:00:56\n",
      "   - -------------------------------------- 13.5/300.9 MB 5.3 MB/s eta 0:00:55\n",
      "   - -------------------------------------- 13.7/300.9 MB 5.3 MB/s eta 0:00:55\n",
      "   - -------------------------------------- 14.0/300.9 MB 5.4 MB/s eta 0:00:54\n",
      "   - -------------------------------------- 14.3/300.9 MB 5.5 MB/s eta 0:00:53\n",
      "   - -------------------------------------- 14.6/300.9 MB 5.6 MB/s eta 0:00:52\n",
      "   - -------------------------------------- 14.9/300.9 MB 5.6 MB/s eta 0:00:51\n",
      "   -- ------------------------------------- 15.3/300.9 MB 5.7 MB/s eta 0:00:50\n",
      "   -- ------------------------------------- 15.6/300.9 MB 5.7 MB/s eta 0:00:50\n",
      "   -- ------------------------------------- 15.9/300.9 MB 5.8 MB/s eta 0:00:49\n",
      "   -- ------------------------------------- 16.3/300.9 MB 6.0 MB/s eta 0:00:48\n",
      "   -- ------------------------------------- 16.6/300.9 MB 6.0 MB/s eta 0:00:48\n",
      "   -- ------------------------------------- 16.9/300.9 MB 6.0 MB/s eta 0:00:48\n",
      "   -- ------------------------------------- 17.3/300.9 MB 6.1 MB/s eta 0:00:47\n",
      "   -- ------------------------------------- 17.6/300.9 MB 6.3 MB/s eta 0:00:46\n",
      "   -- ------------------------------------- 17.9/300.9 MB 6.4 MB/s eta 0:00:45\n",
      "   -- ------------------------------------- 18.3/300.9 MB 6.5 MB/s eta 0:00:44\n",
      "   -- ------------------------------------- 18.6/300.9 MB 6.5 MB/s eta 0:00:44\n",
      "   -- ------------------------------------- 18.8/300.9 MB 6.5 MB/s eta 0:00:44\n",
      "   -- ------------------------------------- 19.2/300.9 MB 6.6 MB/s eta 0:00:43\n",
      "   -- ------------------------------------- 19.5/300.9 MB 6.8 MB/s eta 0:00:42\n",
      "   -- ------------------------------------- 19.9/300.9 MB 6.7 MB/s eta 0:00:42\n",
      "   -- ------------------------------------- 20.3/300.9 MB 6.7 MB/s eta 0:00:42\n",
      "   -- ------------------------------------- 20.6/300.9 MB 6.8 MB/s eta 0:00:42\n",
      "   -- ------------------------------------- 21.0/300.9 MB 6.9 MB/s eta 0:00:41\n",
      "   -- ------------------------------------- 21.3/300.9 MB 6.9 MB/s eta 0:00:41\n",
      "   -- ------------------------------------- 21.6/300.9 MB 6.9 MB/s eta 0:00:41\n",
      "   -- ------------------------------------- 22.0/300.9 MB 7.0 MB/s eta 0:00:41\n",
      "   -- ------------------------------------- 22.3/300.9 MB 7.0 MB/s eta 0:00:41\n",
      "   --- ------------------------------------ 22.6/300.9 MB 7.0 MB/s eta 0:00:40\n",
      "   --- ------------------------------------ 23.0/300.9 MB 7.0 MB/s eta 0:00:40\n",
      "   --- ------------------------------------ 23.4/300.9 MB 7.2 MB/s eta 0:00:39\n",
      "   --- ------------------------------------ 23.8/300.9 MB 7.2 MB/s eta 0:00:39\n",
      "   --- ------------------------------------ 24.2/300.9 MB 7.3 MB/s eta 0:00:39\n",
      "   --- ------------------------------------ 24.6/300.9 MB 7.4 MB/s eta 0:00:38\n",
      "   --- ------------------------------------ 24.9/300.9 MB 7.4 MB/s eta 0:00:38\n",
      "   --- ------------------------------------ 25.3/300.9 MB 7.4 MB/s eta 0:00:38\n",
      "   --- ------------------------------------ 25.6/300.9 MB 7.4 MB/s eta 0:00:38\n",
      "   --- ------------------------------------ 26.0/300.9 MB 7.5 MB/s eta 0:00:37\n",
      "   --- ------------------------------------ 26.4/300.9 MB 7.5 MB/s eta 0:00:37\n",
      "   --- ------------------------------------ 26.8/300.9 MB 7.5 MB/s eta 0:00:37\n",
      "   --- ------------------------------------ 27.2/300.9 MB 7.6 MB/s eta 0:00:36\n",
      "   --- ------------------------------------ 27.5/300.9 MB 7.5 MB/s eta 0:00:37\n",
      "   --- ------------------------------------ 27.8/300.9 MB 7.7 MB/s eta 0:00:36\n",
      "   --- ------------------------------------ 28.3/300.9 MB 7.6 MB/s eta 0:00:36\n",
      "   --- ------------------------------------ 28.6/300.9 MB 7.7 MB/s eta 0:00:36\n",
      "   --- ------------------------------------ 29.0/300.9 MB 7.9 MB/s eta 0:00:35\n",
      "   --- ------------------------------------ 29.4/300.9 MB 7.9 MB/s eta 0:00:35\n",
      "   --- ------------------------------------ 29.7/300.9 MB 7.9 MB/s eta 0:00:35\n",
      "   ---- ----------------------------------- 30.1/300.9 MB 7.9 MB/s eta 0:00:35\n",
      "   ---- ----------------------------------- 30.6/300.9 MB 8.0 MB/s eta 0:00:34\n",
      "   ---- ----------------------------------- 31.0/300.9 MB 8.0 MB/s eta 0:00:34\n",
      "   ---- ----------------------------------- 31.3/300.9 MB 8.1 MB/s eta 0:00:34\n",
      "   ---- ----------------------------------- 31.7/300.9 MB 8.1 MB/s eta 0:00:34\n",
      "   ---- ----------------------------------- 32.1/300.9 MB 8.2 MB/s eta 0:00:33\n",
      "   ---- ----------------------------------- 32.6/300.9 MB 8.2 MB/s eta 0:00:33\n",
      "   ---- ----------------------------------- 33.0/300.9 MB 8.3 MB/s eta 0:00:33\n",
      "   ---- ----------------------------------- 33.3/300.9 MB 8.2 MB/s eta 0:00:33\n",
      "   ---- ----------------------------------- 33.6/300.9 MB 8.1 MB/s eta 0:00:34\n",
      "   ---- ----------------------------------- 34.1/300.9 MB 8.2 MB/s eta 0:00:33\n",
      "   ---- ----------------------------------- 34.5/300.9 MB 8.3 MB/s eta 0:00:33\n",
      "   ---- ----------------------------------- 34.9/300.9 MB 8.3 MB/s eta 0:00:33\n",
      "   ---- ----------------------------------- 35.3/300.9 MB 8.3 MB/s eta 0:00:33\n",
      "   ---- ----------------------------------- 35.8/300.9 MB 8.4 MB/s eta 0:00:32\n",
      "   ---- ----------------------------------- 36.2/300.9 MB 8.4 MB/s eta 0:00:32\n",
      "   ---- ----------------------------------- 36.6/300.9 MB 8.4 MB/s eta 0:00:32\n",
      "   ---- ----------------------------------- 37.0/300.9 MB 8.4 MB/s eta 0:00:32\n",
      "   ---- ----------------------------------- 37.3/300.9 MB 8.4 MB/s eta 0:00:32\n",
      "   ----- ---------------------------------- 37.6/300.9 MB 8.4 MB/s eta 0:00:32\n",
      "   ----- ---------------------------------- 38.1/300.9 MB 8.5 MB/s eta 0:00:31\n",
      "   ----- ---------------------------------- 38.6/300.9 MB 8.6 MB/s eta 0:00:31\n",
      "   ----- ---------------------------------- 39.0/300.9 MB 8.5 MB/s eta 0:00:31\n",
      "   ----- ---------------------------------- 39.4/300.9 MB 8.6 MB/s eta 0:00:31\n",
      "   ----- ---------------------------------- 39.6/300.9 MB 8.5 MB/s eta 0:00:31\n",
      "   ----- ---------------------------------- 40.1/300.9 MB 8.5 MB/s eta 0:00:31\n",
      "   ----- ---------------------------------- 40.5/300.9 MB 8.5 MB/s eta 0:00:31\n",
      "   ----- ---------------------------------- 40.9/300.9 MB 8.5 MB/s eta 0:00:31\n",
      "   ----- ---------------------------------- 41.4/300.9 MB 8.6 MB/s eta 0:00:31\n",
      "   ----- ---------------------------------- 41.8/300.9 MB 8.6 MB/s eta 0:00:31\n",
      "   ----- ---------------------------------- 41.9/300.9 MB 8.6 MB/s eta 0:00:31\n",
      "   ----- ---------------------------------- 42.5/300.9 MB 8.6 MB/s eta 0:00:30\n",
      "   ----- ---------------------------------- 42.8/300.9 MB 8.4 MB/s eta 0:00:31\n",
      "   ----- ---------------------------------- 43.0/300.9 MB 8.3 MB/s eta 0:00:32\n",
      "   ----- ---------------------------------- 43.3/300.9 MB 8.2 MB/s eta 0:00:32\n",
      "   ----- ---------------------------------- 43.7/300.9 MB 8.3 MB/s eta 0:00:32\n",
      "   ----- ---------------------------------- 44.0/300.9 MB 8.3 MB/s eta 0:00:32\n",
      "   ----- ---------------------------------- 44.3/300.9 MB 8.1 MB/s eta 0:00:32\n",
      "   ----- ---------------------------------- 44.7/300.9 MB 8.1 MB/s eta 0:00:32\n",
      "   ----- ---------------------------------- 44.9/300.9 MB 8.0 MB/s eta 0:00:33\n",
      "   ----- ---------------------------------- 45.0/300.9 MB 7.8 MB/s eta 0:00:33\n",
      "   ------ --------------------------------- 45.4/300.9 MB 7.7 MB/s eta 0:00:34\n",
      "   ------ --------------------------------- 45.7/300.9 MB 7.7 MB/s eta 0:00:34\n",
      "   ------ --------------------------------- 46.0/300.9 MB 7.6 MB/s eta 0:00:34\n",
      "   ------ --------------------------------- 46.4/300.9 MB 7.6 MB/s eta 0:00:34\n",
      "   ------ --------------------------------- 46.7/300.9 MB 7.5 MB/s eta 0:00:34\n",
      "   ------ --------------------------------- 47.0/300.9 MB 7.5 MB/s eta 0:00:34\n",
      "   ------ --------------------------------- 47.4/300.9 MB 7.4 MB/s eta 0:00:35\n",
      "   ------ --------------------------------- 47.6/300.9 MB 7.4 MB/s eta 0:00:35\n",
      "   ------ --------------------------------- 48.0/300.9 MB 7.4 MB/s eta 0:00:35\n",
      "   ------ --------------------------------- 48.3/300.9 MB 7.3 MB/s eta 0:00:35\n",
      "   ------ --------------------------------- 48.6/300.9 MB 7.2 MB/s eta 0:00:36\n",
      "   ------ --------------------------------- 49.0/300.9 MB 7.2 MB/s eta 0:00:36\n",
      "   ------ --------------------------------- 49.3/300.9 MB 7.2 MB/s eta 0:00:35\n",
      "   ------ --------------------------------- 49.6/300.9 MB 7.1 MB/s eta 0:00:36\n",
      "   ------ --------------------------------- 50.0/300.9 MB 7.2 MB/s eta 0:00:35\n",
      "   ------ --------------------------------- 50.3/300.9 MB 7.1 MB/s eta 0:00:36\n",
      "   ------ --------------------------------- 50.6/300.9 MB 7.0 MB/s eta 0:00:36\n",
      "   ------ --------------------------------- 51.0/300.9 MB 7.0 MB/s eta 0:00:36\n",
      "   ------ --------------------------------- 51.2/300.9 MB 6.9 MB/s eta 0:00:37\n",
      "   ------ --------------------------------- 51.5/300.9 MB 6.8 MB/s eta 0:00:37\n",
      "   ------ --------------------------------- 51.8/300.9 MB 6.8 MB/s eta 0:00:37\n",
      "   ------ --------------------------------- 52.2/300.9 MB 7.0 MB/s eta 0:00:36\n",
      "   ------ --------------------------------- 52.3/300.9 MB 6.9 MB/s eta 0:00:37\n",
      "   ------ --------------------------------- 52.6/300.9 MB 6.5 MB/s eta 0:00:38\n",
      "   ------- -------------------------------- 52.9/300.9 MB 6.6 MB/s eta 0:00:38\n",
      "   ------- -------------------------------- 53.3/300.9 MB 6.7 MB/s eta 0:00:38\n",
      "   ------- -------------------------------- 53.6/300.9 MB 6.7 MB/s eta 0:00:38\n",
      "   ------- -------------------------------- 53.9/300.9 MB 6.7 MB/s eta 0:00:37\n",
      "   ------- -------------------------------- 54.3/300.9 MB 6.7 MB/s eta 0:00:37\n",
      "   ------- -------------------------------- 54.6/300.9 MB 6.7 MB/s eta 0:00:37\n",
      "   ------- -------------------------------- 55.0/300.9 MB 6.8 MB/s eta 0:00:37\n",
      "   ------- -------------------------------- 55.3/300.9 MB 6.9 MB/s eta 0:00:36\n",
      "   ------- -------------------------------- 55.6/300.9 MB 6.9 MB/s eta 0:00:36\n",
      "   ------- -------------------------------- 55.9/300.9 MB 6.9 MB/s eta 0:00:36\n",
      "   ------- -------------------------------- 56.3/300.9 MB 6.9 MB/s eta 0:00:36\n",
      "   ------- -------------------------------- 56.6/300.9 MB 6.8 MB/s eta 0:00:36\n",
      "   ------- -------------------------------- 56.9/300.9 MB 6.8 MB/s eta 0:00:36\n",
      "   ------- -------------------------------- 57.3/300.9 MB 6.9 MB/s eta 0:00:36\n",
      "   ------- -------------------------------- 57.6/300.9 MB 6.9 MB/s eta 0:00:36\n",
      "   ------- -------------------------------- 57.9/300.9 MB 7.0 MB/s eta 0:00:35\n",
      "   ------- -------------------------------- 58.2/300.9 MB 7.0 MB/s eta 0:00:35\n",
      "   ------- -------------------------------- 58.6/300.9 MB 7.0 MB/s eta 0:00:35\n",
      "   ------- -------------------------------- 58.9/300.9 MB 7.0 MB/s eta 0:00:35\n",
      "   ------- -------------------------------- 59.2/300.9 MB 7.0 MB/s eta 0:00:35\n",
      "   ------- -------------------------------- 59.6/300.9 MB 7.0 MB/s eta 0:00:35\n",
      "   ------- -------------------------------- 59.9/300.9 MB 7.0 MB/s eta 0:00:35\n",
      "   -------- ------------------------------- 60.2/300.9 MB 7.0 MB/s eta 0:00:35\n",
      "   -------- ------------------------------- 60.5/300.9 MB 6.9 MB/s eta 0:00:35\n",
      "   -------- ------------------------------- 60.9/300.9 MB 7.0 MB/s eta 0:00:35\n",
      "   -------- ------------------------------- 61.2/300.9 MB 6.9 MB/s eta 0:00:35\n",
      "   -------- ------------------------------- 61.5/300.9 MB 7.0 MB/s eta 0:00:35\n",
      "   -------- ------------------------------- 61.8/300.9 MB 7.0 MB/s eta 0:00:35\n",
      "   -------- ------------------------------- 62.2/300.9 MB 7.0 MB/s eta 0:00:34\n",
      "   -------- ------------------------------- 62.5/300.9 MB 7.0 MB/s eta 0:00:34\n",
      "   -------- ------------------------------- 62.8/300.9 MB 7.2 MB/s eta 0:00:34\n",
      "   -------- ------------------------------- 63.1/300.9 MB 7.1 MB/s eta 0:00:34\n",
      "   -------- ------------------------------- 63.5/300.9 MB 7.1 MB/s eta 0:00:34\n",
      "   -------- ------------------------------- 63.7/300.9 MB 7.0 MB/s eta 0:00:34\n",
      "   -------- ------------------------------- 64.0/300.9 MB 7.0 MB/s eta 0:00:34\n",
      "   -------- ------------------------------- 64.4/300.9 MB 7.0 MB/s eta 0:00:34\n",
      "   -------- ------------------------------- 64.6/300.9 MB 7.0 MB/s eta 0:00:34\n",
      "   -------- ------------------------------- 64.8/300.9 MB 6.9 MB/s eta 0:00:35\n",
      "   -------- ------------------------------- 65.0/300.9 MB 6.8 MB/s eta 0:00:35\n",
      "   -------- ------------------------------- 65.4/300.9 MB 6.8 MB/s eta 0:00:35\n",
      "   -------- ------------------------------- 65.6/300.9 MB 6.8 MB/s eta 0:00:35\n",
      "   -------- ------------------------------- 66.0/300.9 MB 6.8 MB/s eta 0:00:35\n",
      "   -------- ------------------------------- 66.4/300.9 MB 6.8 MB/s eta 0:00:35\n",
      "   -------- ------------------------------- 66.7/300.9 MB 6.8 MB/s eta 0:00:35\n",
      "   -------- ------------------------------- 67.1/300.9 MB 6.9 MB/s eta 0:00:34\n",
      "   -------- ------------------------------- 67.4/300.9 MB 6.8 MB/s eta 0:00:35\n",
      "   --------- ------------------------------ 67.8/300.9 MB 7.0 MB/s eta 0:00:34\n",
      "   --------- ------------------------------ 68.2/300.9 MB 7.0 MB/s eta 0:00:34\n",
      "   --------- ------------------------------ 68.5/300.9 MB 6.9 MB/s eta 0:00:34\n",
      "   --------- ------------------------------ 68.9/300.9 MB 6.9 MB/s eta 0:00:34\n",
      "   --------- ------------------------------ 69.1/300.9 MB 6.8 MB/s eta 0:00:34\n",
      "   --------- ------------------------------ 69.5/300.9 MB 7.0 MB/s eta 0:00:34\n",
      "   --------- ------------------------------ 69.8/300.9 MB 7.0 MB/s eta 0:00:34\n",
      "   --------- ------------------------------ 70.1/300.9 MB 6.9 MB/s eta 0:00:34\n",
      "   --------- ------------------------------ 70.4/300.9 MB 6.9 MB/s eta 0:00:34\n",
      "   --------- ------------------------------ 70.8/300.9 MB 7.0 MB/s eta 0:00:34\n",
      "   --------- ------------------------------ 71.1/300.9 MB 6.9 MB/s eta 0:00:34\n",
      "   --------- ------------------------------ 71.5/300.9 MB 7.0 MB/s eta 0:00:33\n",
      "   --------- ------------------------------ 71.8/300.9 MB 7.0 MB/s eta 0:00:33\n",
      "   --------- ------------------------------ 72.2/300.9 MB 7.0 MB/s eta 0:00:33\n",
      "   --------- ------------------------------ 72.6/300.9 MB 7.0 MB/s eta 0:00:33\n",
      "   --------- ------------------------------ 72.9/300.9 MB 7.0 MB/s eta 0:00:33\n",
      "   --------- ------------------------------ 73.3/300.9 MB 7.0 MB/s eta 0:00:33\n",
      "   --------- ------------------------------ 73.7/300.9 MB 7.1 MB/s eta 0:00:32\n",
      "   --------- ------------------------------ 74.1/300.9 MB 7.2 MB/s eta 0:00:32\n",
      "   --------- ------------------------------ 74.4/300.9 MB 7.3 MB/s eta 0:00:32\n",
      "   --------- ------------------------------ 74.8/300.9 MB 7.3 MB/s eta 0:00:32\n",
      "   --------- ------------------------------ 75.2/300.9 MB 7.4 MB/s eta 0:00:31\n",
      "   ---------- ----------------------------- 75.6/300.9 MB 7.6 MB/s eta 0:00:30\n",
      "   ---------- ----------------------------- 75.8/300.9 MB 7.5 MB/s eta 0:00:30\n",
      "   ---------- ----------------------------- 76.2/300.9 MB 7.5 MB/s eta 0:00:30\n",
      "   ---------- ----------------------------- 76.7/300.9 MB 7.6 MB/s eta 0:00:30\n",
      "   ---------- ----------------------------- 77.0/300.9 MB 7.6 MB/s eta 0:00:30\n",
      "   ---------- ----------------------------- 77.4/300.9 MB 7.6 MB/s eta 0:00:30\n",
      "   ---------- ----------------------------- 77.8/300.9 MB 7.7 MB/s eta 0:00:29\n",
      "   ---------- ----------------------------- 78.2/300.9 MB 7.7 MB/s eta 0:00:29\n",
      "   ---------- ----------------------------- 78.6/300.9 MB 7.8 MB/s eta 0:00:29\n",
      "   ---------- ----------------------------- 79.0/300.9 MB 7.7 MB/s eta 0:00:29\n",
      "   ---------- ----------------------------- 79.2/300.9 MB 7.6 MB/s eta 0:00:30\n",
      "   ---------- ----------------------------- 79.7/300.9 MB 7.8 MB/s eta 0:00:29\n",
      "   ---------- ----------------------------- 80.1/300.9 MB 7.9 MB/s eta 0:00:28\n",
      "   ---------- ----------------------------- 80.5/300.9 MB 8.0 MB/s eta 0:00:28\n",
      "   ---------- ----------------------------- 80.9/300.9 MB 8.2 MB/s eta 0:00:27\n",
      "   ---------- ----------------------------- 81.3/300.9 MB 8.1 MB/s eta 0:00:28\n",
      "   ---------- ----------------------------- 81.7/300.9 MB 8.2 MB/s eta 0:00:27\n",
      "   ---------- ----------------------------- 82.1/300.9 MB 8.2 MB/s eta 0:00:27\n",
      "   ---------- ----------------------------- 82.5/300.9 MB 8.3 MB/s eta 0:00:27\n",
      "   ----------- ---------------------------- 82.9/300.9 MB 8.4 MB/s eta 0:00:26\n",
      "   ----------- ---------------------------- 83.4/300.9 MB 8.4 MB/s eta 0:00:26\n",
      "   ----------- ---------------------------- 83.8/300.9 MB 8.4 MB/s eta 0:00:26\n",
      "   ----------- ---------------------------- 84.2/300.9 MB 8.4 MB/s eta 0:00:26\n",
      "   ----------- ---------------------------- 84.6/300.9 MB 8.5 MB/s eta 0:00:26\n",
      "   ----------- ---------------------------- 84.9/300.9 MB 8.5 MB/s eta 0:00:26\n",
      "   ----------- ---------------------------- 85.2/300.9 MB 8.4 MB/s eta 0:00:26\n",
      "   ----------- ---------------------------- 85.6/300.9 MB 8.4 MB/s eta 0:00:26\n",
      "   ----------- ---------------------------- 86.1/300.9 MB 8.5 MB/s eta 0:00:26\n",
      "   ----------- ---------------------------- 86.5/300.9 MB 8.6 MB/s eta 0:00:25\n",
      "   ----------- ---------------------------- 87.0/300.9 MB 8.6 MB/s eta 0:00:25\n",
      "   ----------- ---------------------------- 87.4/300.9 MB 8.6 MB/s eta 0:00:25\n",
      "   ----------- ---------------------------- 88.0/300.9 MB 8.7 MB/s eta 0:00:25\n",
      "   ----------- ---------------------------- 88.4/300.9 MB 8.7 MB/s eta 0:00:25\n",
      "   ----------- ---------------------------- 88.8/300.9 MB 8.8 MB/s eta 0:00:24\n",
      "   ----------- ---------------------------- 89.2/300.9 MB 8.7 MB/s eta 0:00:25\n",
      "   ----------- ---------------------------- 89.2/300.9 MB 8.7 MB/s eta 0:00:25\n",
      "   ----------- ---------------------------- 89.8/300.9 MB 9.0 MB/s eta 0:00:24\n",
      "   ----------- ---------------------------- 90.2/300.9 MB 8.7 MB/s eta 0:00:25\n",
      "   ------------ --------------------------- 90.4/300.9 MB 8.6 MB/s eta 0:00:25\n",
      "   ------------ --------------------------- 90.7/300.9 MB 8.4 MB/s eta 0:00:26\n",
      "   ------------ --------------------------- 90.8/300.9 MB 8.4 MB/s eta 0:00:26\n",
      "   ------------ --------------------------- 91.0/300.9 MB 8.1 MB/s eta 0:00:26\n",
      "   ------------ --------------------------- 91.2/300.9 MB 8.0 MB/s eta 0:00:27\n",
      "   ------------ --------------------------- 91.5/300.9 MB 7.8 MB/s eta 0:00:27\n",
      "   ------------ --------------------------- 91.7/300.9 MB 7.7 MB/s eta 0:00:28\n",
      "   ------------ --------------------------- 91.9/300.9 MB 7.5 MB/s eta 0:00:28\n",
      "   ------------ --------------------------- 92.1/300.9 MB 7.4 MB/s eta 0:00:29\n",
      "   ------------ --------------------------- 92.4/300.9 MB 7.4 MB/s eta 0:00:29\n",
      "   ------------ --------------------------- 92.6/300.9 MB 7.3 MB/s eta 0:00:29\n",
      "   ------------ --------------------------- 92.9/300.9 MB 7.1 MB/s eta 0:00:30\n",
      "   ------------ --------------------------- 93.1/300.9 MB 7.0 MB/s eta 0:00:30\n",
      "   ------------ --------------------------- 93.2/300.9 MB 6.9 MB/s eta 0:00:31\n",
      "   ------------ --------------------------- 93.5/300.9 MB 6.8 MB/s eta 0:00:31\n",
      "   ------------ --------------------------- 93.7/300.9 MB 6.7 MB/s eta 0:00:32\n",
      "   ------------ --------------------------- 93.9/300.9 MB 6.5 MB/s eta 0:00:32\n",
      "   ------------ --------------------------- 94.1/300.9 MB 6.5 MB/s eta 0:00:32\n",
      "   ------------ --------------------------- 94.3/300.9 MB 6.4 MB/s eta 0:00:33\n",
      "   ------------ --------------------------- 94.5/300.9 MB 6.3 MB/s eta 0:00:33\n",
      "   ------------ --------------------------- 94.7/300.9 MB 6.2 MB/s eta 0:00:34\n",
      "   ------------ --------------------------- 94.9/300.9 MB 6.2 MB/s eta 0:00:34\n",
      "   ------------ --------------------------- 95.2/300.9 MB 6.1 MB/s eta 0:00:34\n",
      "   ------------ --------------------------- 95.4/300.9 MB 6.1 MB/s eta 0:00:34\n",
      "   ------------ --------------------------- 95.6/300.9 MB 6.0 MB/s eta 0:00:35\n",
      "   ------------ --------------------------- 95.8/300.9 MB 5.9 MB/s eta 0:00:35\n",
      "   ------------ --------------------------- 96.1/300.9 MB 5.8 MB/s eta 0:00:36\n",
      "   ------------ --------------------------- 96.2/300.9 MB 5.7 MB/s eta 0:00:36\n",
      "   ------------ --------------------------- 96.5/300.9 MB 5.6 MB/s eta 0:00:37\n",
      "   ------------ --------------------------- 96.7/300.9 MB 5.6 MB/s eta 0:00:37\n",
      "   ------------ --------------------------- 97.0/300.9 MB 5.5 MB/s eta 0:00:38\n",
      "   ------------ --------------------------- 97.2/300.9 MB 5.5 MB/s eta 0:00:38\n",
      "   ------------ --------------------------- 97.4/300.9 MB 5.4 MB/s eta 0:00:38\n",
      "   ------------ --------------------------- 97.6/300.9 MB 5.3 MB/s eta 0:00:39\n",
      "   ------------- -------------------------- 97.8/300.9 MB 5.2 MB/s eta 0:00:39\n",
      "   ------------- -------------------------- 98.0/300.9 MB 5.2 MB/s eta 0:00:40\n",
      "   ------------- -------------------------- 98.2/300.9 MB 5.1 MB/s eta 0:00:40\n",
      "   ------------- -------------------------- 98.5/300.9 MB 5.1 MB/s eta 0:00:40\n",
      "   ------------- -------------------------- 98.7/300.9 MB 5.0 MB/s eta 0:00:41\n",
      "   ------------- -------------------------- 98.9/300.9 MB 5.0 MB/s eta 0:00:41\n",
      "   ------------- -------------------------- 99.2/300.9 MB 4.9 MB/s eta 0:00:42\n",
      "   ------------- -------------------------- 99.4/300.9 MB 4.8 MB/s eta 0:00:42\n",
      "   ------------- -------------------------- 99.5/300.9 MB 4.9 MB/s eta 0:00:41\n",
      "   ------------- -------------------------- 99.8/300.9 MB 4.8 MB/s eta 0:00:42\n",
      "   ------------- -------------------------- 100.0/300.9 MB 4.7 MB/s eta 0:00:43\n",
      "   ------------- -------------------------- 100.2/300.9 MB 4.7 MB/s eta 0:00:43\n",
      "   ------------- -------------------------- 100.5/300.9 MB 4.7 MB/s eta 0:00:43\n",
      "   ------------- -------------------------- 100.7/300.9 MB 4.7 MB/s eta 0:00:43\n",
      "   ------------- -------------------------- 100.9/300.9 MB 4.7 MB/s eta 0:00:43\n",
      "   ------------- -------------------------- 101.2/300.9 MB 4.8 MB/s eta 0:00:42\n",
      "   ------------- -------------------------- 101.4/300.9 MB 4.8 MB/s eta 0:00:42\n",
      "   ------------- -------------------------- 101.7/300.9 MB 4.8 MB/s eta 0:00:42\n",
      "   ------------- -------------------------- 101.9/300.9 MB 4.8 MB/s eta 0:00:42\n",
      "   ------------- -------------------------- 102.2/300.9 MB 4.8 MB/s eta 0:00:42\n",
      "   ------------- -------------------------- 102.4/300.9 MB 4.8 MB/s eta 0:00:42\n",
      "   ------------- -------------------------- 102.7/300.9 MB 4.8 MB/s eta 0:00:42\n",
      "   ------------- -------------------------- 102.9/300.9 MB 4.8 MB/s eta 0:00:42\n",
      "   ------------- -------------------------- 103.1/300.9 MB 4.8 MB/s eta 0:00:42\n",
      "   ------------- -------------------------- 103.4/300.9 MB 4.8 MB/s eta 0:00:42\n",
      "   ------------- -------------------------- 103.6/300.9 MB 4.9 MB/s eta 0:00:41\n",
      "   ------------- -------------------------- 103.9/300.9 MB 4.9 MB/s eta 0:00:41\n",
      "   ------------- -------------------------- 104.1/300.9 MB 4.9 MB/s eta 0:00:41\n",
      "   ------------- -------------------------- 104.4/300.9 MB 4.9 MB/s eta 0:00:40\n",
      "   ------------- -------------------------- 104.7/300.9 MB 5.0 MB/s eta 0:00:40\n",
      "   ------------- -------------------------- 104.9/300.9 MB 5.0 MB/s eta 0:00:40\n",
      "   ------------- -------------------------- 105.3/300.9 MB 5.0 MB/s eta 0:00:39\n",
      "   -------------- ------------------------- 105.5/300.9 MB 5.0 MB/s eta 0:00:39\n",
      "   -------------- ------------------------- 105.8/300.9 MB 5.0 MB/s eta 0:00:39\n",
      "   -------------- ------------------------- 106.1/300.9 MB 5.1 MB/s eta 0:00:39\n",
      "   -------------- ------------------------- 106.3/300.9 MB 5.1 MB/s eta 0:00:39\n",
      "   -------------- ------------------------- 106.6/300.9 MB 5.1 MB/s eta 0:00:38\n",
      "   -------------- ------------------------- 106.8/300.9 MB 5.2 MB/s eta 0:00:38\n",
      "   -------------- ------------------------- 107.1/300.9 MB 5.2 MB/s eta 0:00:38\n",
      "   -------------- ------------------------- 107.4/300.9 MB 5.2 MB/s eta 0:00:38\n",
      "   -------------- ------------------------- 107.6/300.9 MB 5.2 MB/s eta 0:00:38\n",
      "   -------------- ------------------------- 108.0/300.9 MB 5.3 MB/s eta 0:00:37\n",
      "   -------------- ------------------------- 108.2/300.9 MB 5.3 MB/s eta 0:00:37\n",
      "   -------------- ------------------------- 108.5/300.9 MB 5.4 MB/s eta 0:00:36\n",
      "   -------------- ------------------------- 108.8/300.9 MB 5.4 MB/s eta 0:00:36\n",
      "   -------------- ------------------------- 109.1/300.9 MB 5.4 MB/s eta 0:00:36\n",
      "   -------------- ------------------------- 109.4/300.9 MB 5.5 MB/s eta 0:00:35\n",
      "   -------------- ------------------------- 109.7/300.9 MB 5.6 MB/s eta 0:00:35\n",
      "   -------------- ------------------------- 109.9/300.9 MB 5.5 MB/s eta 0:00:35\n",
      "   -------------- ------------------------- 110.2/300.9 MB 5.6 MB/s eta 0:00:35\n",
      "   -------------- ------------------------- 110.5/300.9 MB 5.6 MB/s eta 0:00:35\n",
      "   -------------- ------------------------- 110.8/300.9 MB 5.6 MB/s eta 0:00:34\n",
      "   -------------- ------------------------- 111.1/300.9 MB 5.7 MB/s eta 0:00:34\n",
      "   -------------- ------------------------- 111.4/300.9 MB 5.7 MB/s eta 0:00:34\n",
      "   -------------- ------------------------- 111.7/300.9 MB 5.7 MB/s eta 0:00:33\n",
      "   -------------- ------------------------- 111.9/300.9 MB 5.7 MB/s eta 0:00:33\n",
      "   -------------- ------------------------- 112.3/300.9 MB 5.8 MB/s eta 0:00:33\n",
      "   -------------- ------------------------- 112.6/300.9 MB 5.8 MB/s eta 0:00:33\n",
      "   --------------- ------------------------ 112.9/300.9 MB 5.9 MB/s eta 0:00:32\n",
      "   --------------- ------------------------ 113.2/300.9 MB 6.0 MB/s eta 0:00:32\n",
      "   --------------- ------------------------ 113.5/300.9 MB 6.0 MB/s eta 0:00:32\n",
      "   --------------- ------------------------ 113.7/300.9 MB 6.1 MB/s eta 0:00:31\n",
      "   --------------- ------------------------ 114.0/300.9 MB 6.0 MB/s eta 0:00:32\n",
      "   --------------- ------------------------ 114.2/300.9 MB 6.0 MB/s eta 0:00:32\n",
      "   --------------- ------------------------ 114.5/300.9 MB 6.0 MB/s eta 0:00:32\n",
      "   --------------- ------------------------ 114.9/300.9 MB 6.1 MB/s eta 0:00:31\n",
      "   --------------- ------------------------ 115.2/300.9 MB 6.1 MB/s eta 0:00:31\n",
      "   --------------- ------------------------ 115.6/300.9 MB 6.2 MB/s eta 0:00:31\n",
      "   --------------- ------------------------ 115.9/300.9 MB 6.2 MB/s eta 0:00:30\n",
      "   --------------- ------------------------ 116.2/300.9 MB 6.2 MB/s eta 0:00:30\n",
      "   --------------- ------------------------ 116.6/300.9 MB 6.4 MB/s eta 0:00:29\n",
      "   --------------- ------------------------ 116.9/300.9 MB 6.4 MB/s eta 0:00:29\n",
      "   --------------- ------------------------ 117.2/300.9 MB 6.4 MB/s eta 0:00:29\n",
      "   --------------- ------------------------ 117.6/300.9 MB 6.5 MB/s eta 0:00:29\n",
      "   --------------- ------------------------ 117.9/300.9 MB 6.5 MB/s eta 0:00:29\n",
      "   --------------- ------------------------ 118.2/300.9 MB 6.5 MB/s eta 0:00:29\n",
      "   --------------- ------------------------ 118.5/300.9 MB 6.5 MB/s eta 0:00:29\n",
      "   --------------- ------------------------ 118.8/300.9 MB 6.5 MB/s eta 0:00:28\n",
      "   --------------- ------------------------ 119.1/300.9 MB 6.5 MB/s eta 0:00:29\n",
      "   --------------- ------------------------ 119.4/300.9 MB 6.5 MB/s eta 0:00:28\n",
      "   --------------- ------------------------ 119.8/300.9 MB 6.5 MB/s eta 0:00:28\n",
      "   --------------- ------------------------ 120.1/300.9 MB 6.7 MB/s eta 0:00:28\n",
      "   ---------------- ----------------------- 120.5/300.9 MB 6.7 MB/s eta 0:00:27\n",
      "   ---------------- ----------------------- 120.9/300.9 MB 6.7 MB/s eta 0:00:27\n",
      "   ---------------- ----------------------- 121.3/300.9 MB 6.8 MB/s eta 0:00:27\n",
      "   ---------------- ----------------------- 121.6/300.9 MB 6.8 MB/s eta 0:00:27\n",
      "   ---------------- ----------------------- 122.0/300.9 MB 7.0 MB/s eta 0:00:26\n",
      "   ---------------- ----------------------- 122.4/300.9 MB 7.0 MB/s eta 0:00:26\n",
      "   ---------------- ----------------------- 122.7/300.9 MB 7.0 MB/s eta 0:00:26\n",
      "   ---------------- ----------------------- 123.0/300.9 MB 7.0 MB/s eta 0:00:26\n",
      "   ---------------- ----------------------- 123.4/300.9 MB 7.0 MB/s eta 0:00:26\n",
      "   ---------------- ----------------------- 123.8/300.9 MB 7.1 MB/s eta 0:00:25\n",
      "   ---------------- ----------------------- 124.1/300.9 MB 7.3 MB/s eta 0:00:25\n",
      "   ---------------- ----------------------- 124.5/300.9 MB 7.4 MB/s eta 0:00:24\n",
      "   ---------------- ----------------------- 124.8/300.9 MB 7.4 MB/s eta 0:00:24\n",
      "   ---------------- ----------------------- 125.2/300.9 MB 7.4 MB/s eta 0:00:24\n",
      "   ---------------- ----------------------- 125.6/300.9 MB 7.4 MB/s eta 0:00:24\n",
      "   ---------------- ----------------------- 126.0/300.9 MB 7.5 MB/s eta 0:00:24\n",
      "   ---------------- ----------------------- 126.4/300.9 MB 7.5 MB/s eta 0:00:24\n",
      "   ---------------- ----------------------- 126.8/300.9 MB 7.4 MB/s eta 0:00:24\n",
      "   ---------------- ----------------------- 127.1/300.9 MB 7.6 MB/s eta 0:00:23\n",
      "   ---------------- ----------------------- 127.6/300.9 MB 7.6 MB/s eta 0:00:23\n",
      "   ---------------- ----------------------- 127.9/300.9 MB 7.7 MB/s eta 0:00:23\n",
      "   ----------------- ---------------------- 128.3/300.9 MB 7.7 MB/s eta 0:00:23\n",
      "   ----------------- ---------------------- 128.7/300.9 MB 7.7 MB/s eta 0:00:23\n",
      "   ----------------- ---------------------- 129.1/300.9 MB 7.9 MB/s eta 0:00:22\n",
      "   ----------------- ---------------------- 129.5/300.9 MB 8.1 MB/s eta 0:00:22\n",
      "   ----------------- ---------------------- 129.9/300.9 MB 8.1 MB/s eta 0:00:22\n",
      "   ----------------- ---------------------- 130.3/300.9 MB 8.1 MB/s eta 0:00:22\n",
      "   ----------------- ---------------------- 130.5/300.9 MB 8.1 MB/s eta 0:00:22\n",
      "   ----------------- ---------------------- 130.8/300.9 MB 7.9 MB/s eta 0:00:22\n",
      "   ----------------- ---------------------- 131.1/300.9 MB 7.9 MB/s eta 0:00:22\n",
      "   ----------------- ---------------------- 131.6/300.9 MB 8.0 MB/s eta 0:00:22\n",
      "   ----------------- ---------------------- 132.0/300.9 MB 8.0 MB/s eta 0:00:22\n",
      "   ----------------- ---------------------- 132.4/300.9 MB 8.0 MB/s eta 0:00:22\n",
      "   ----------------- ---------------------- 132.8/300.9 MB 8.1 MB/s eta 0:00:21\n",
      "   ----------------- ---------------------- 133.2/300.9 MB 8.1 MB/s eta 0:00:21\n",
      "   ----------------- ---------------------- 133.5/300.9 MB 8.2 MB/s eta 0:00:21\n",
      "   ----------------- ---------------------- 133.9/300.9 MB 8.1 MB/s eta 0:00:21\n",
      "   ----------------- ---------------------- 134.3/300.9 MB 8.2 MB/s eta 0:00:21\n",
      "   ----------------- ---------------------- 134.7/300.9 MB 8.2 MB/s eta 0:00:21\n",
      "   ----------------- ---------------------- 135.1/300.9 MB 8.3 MB/s eta 0:00:20\n",
      "   ------------------ --------------------- 135.5/300.9 MB 8.3 MB/s eta 0:00:20\n",
      "   ------------------ --------------------- 135.9/300.9 MB 8.3 MB/s eta 0:00:20\n",
      "   ------------------ --------------------- 136.4/300.9 MB 8.3 MB/s eta 0:00:20\n",
      "   ------------------ --------------------- 136.7/300.9 MB 8.3 MB/s eta 0:00:20\n",
      "   ------------------ --------------------- 137.2/300.9 MB 8.3 MB/s eta 0:00:20\n",
      "   ------------------ --------------------- 137.5/300.9 MB 8.3 MB/s eta 0:00:20\n",
      "   ------------------ --------------------- 138.0/300.9 MB 8.3 MB/s eta 0:00:20\n",
      "   ------------------ --------------------- 138.4/300.9 MB 8.4 MB/s eta 0:00:20\n",
      "   ------------------ --------------------- 138.7/300.9 MB 8.3 MB/s eta 0:00:20\n",
      "   ------------------ --------------------- 139.0/300.9 MB 8.2 MB/s eta 0:00:20\n",
      "   ------------------ --------------------- 139.1/300.9 MB 8.0 MB/s eta 0:00:21\n",
      "   ------------------ --------------------- 139.4/300.9 MB 8.0 MB/s eta 0:00:21\n",
      "   ------------------ --------------------- 139.7/300.9 MB 7.8 MB/s eta 0:00:21\n",
      "   ------------------ --------------------- 139.9/300.9 MB 7.7 MB/s eta 0:00:21\n",
      "   ------------------ --------------------- 140.2/300.9 MB 7.6 MB/s eta 0:00:22\n",
      "   ------------------ --------------------- 140.4/300.9 MB 7.6 MB/s eta 0:00:22\n",
      "   ------------------ --------------------- 140.7/300.9 MB 7.4 MB/s eta 0:00:22\n",
      "   ------------------ --------------------- 140.9/300.9 MB 7.5 MB/s eta 0:00:22\n",
      "   ------------------ --------------------- 141.3/300.9 MB 7.4 MB/s eta 0:00:22\n",
      "   ------------------ --------------------- 141.6/300.9 MB 7.4 MB/s eta 0:00:22\n",
      "   ------------------ --------------------- 141.9/300.9 MB 7.4 MB/s eta 0:00:22\n",
      "   ------------------ --------------------- 142.2/300.9 MB 7.3 MB/s eta 0:00:22\n",
      "   ------------------ --------------------- 142.4/300.9 MB 7.2 MB/s eta 0:00:23\n",
      "   ------------------ --------------------- 142.7/300.9 MB 7.1 MB/s eta 0:00:23\n",
      "   ------------------ --------------------- 142.8/300.9 MB 7.0 MB/s eta 0:00:23\n",
      "   ------------------- -------------------- 143.1/300.9 MB 7.0 MB/s eta 0:00:23\n",
      "   ------------------- -------------------- 143.3/300.9 MB 6.7 MB/s eta 0:00:24\n",
      "   ------------------- -------------------- 143.5/300.9 MB 6.8 MB/s eta 0:00:24\n",
      "   ------------------- -------------------- 143.9/300.9 MB 6.7 MB/s eta 0:00:24\n",
      "   ------------------- -------------------- 144.3/300.9 MB 6.7 MB/s eta 0:00:24\n",
      "   ------------------- -------------------- 144.6/300.9 MB 6.7 MB/s eta 0:00:24\n",
      "   ------------------- -------------------- 145.0/300.9 MB 6.7 MB/s eta 0:00:24\n",
      "   ------------------- -------------------- 145.4/300.9 MB 6.7 MB/s eta 0:00:24\n",
      "   ------------------- -------------------- 145.8/300.9 MB 6.7 MB/s eta 0:00:23\n",
      "   ------------------- -------------------- 146.2/300.9 MB 6.8 MB/s eta 0:00:23\n",
      "   ------------------- -------------------- 146.4/300.9 MB 6.7 MB/s eta 0:00:24\n",
      "   ------------------- -------------------- 146.8/300.9 MB 6.6 MB/s eta 0:00:24\n",
      "   ------------------- -------------------- 147.3/300.9 MB 6.6 MB/s eta 0:00:24\n",
      "   ------------------- -------------------- 147.6/300.9 MB 6.6 MB/s eta 0:00:24\n",
      "   ------------------- -------------------- 148.1/300.9 MB 6.6 MB/s eta 0:00:24\n",
      "   ------------------- -------------------- 148.4/300.9 MB 6.6 MB/s eta 0:00:24\n",
      "   ------------------- -------------------- 148.8/300.9 MB 6.6 MB/s eta 0:00:24\n",
      "   ------------------- -------------------- 149.0/300.9 MB 6.5 MB/s eta 0:00:24\n",
      "   ------------------- -------------------- 149.3/300.9 MB 6.5 MB/s eta 0:00:24\n",
      "   ------------------- -------------------- 149.8/300.9 MB 6.8 MB/s eta 0:00:23\n",
      "   ------------------- -------------------- 150.1/300.9 MB 6.9 MB/s eta 0:00:22\n",
      "   -------------------- ------------------- 150.6/300.9 MB 7.0 MB/s eta 0:00:22\n",
      "   -------------------- ------------------- 150.9/300.9 MB 7.2 MB/s eta 0:00:21\n",
      "   -------------------- ------------------- 151.3/300.9 MB 7.2 MB/s eta 0:00:21\n",
      "   -------------------- ------------------- 151.7/300.9 MB 7.2 MB/s eta 0:00:21\n",
      "   -------------------- ------------------- 152.0/300.9 MB 7.2 MB/s eta 0:00:21\n",
      "   -------------------- ------------------- 152.4/300.9 MB 7.4 MB/s eta 0:00:21\n",
      "   -------------------- ------------------- 152.8/300.9 MB 7.5 MB/s eta 0:00:20\n",
      "   -------------------- ------------------- 153.2/300.9 MB 7.7 MB/s eta 0:00:20\n",
      "   -------------------- ------------------- 153.6/300.9 MB 8.1 MB/s eta 0:00:19\n",
      "   -------------------- ------------------- 154.0/300.9 MB 8.1 MB/s eta 0:00:19\n",
      "   -------------------- ------------------- 154.4/300.9 MB 8.1 MB/s eta 0:00:19\n",
      "   -------------------- ------------------- 154.9/300.9 MB 8.2 MB/s eta 0:00:18\n",
      "   -------------------- ------------------- 155.2/300.9 MB 8.1 MB/s eta 0:00:19\n",
      "   -------------------- ------------------- 155.6/300.9 MB 8.1 MB/s eta 0:00:18\n",
      "   -------------------- ------------------- 156.0/300.9 MB 8.1 MB/s eta 0:00:18\n",
      "   -------------------- ------------------- 156.4/300.9 MB 8.1 MB/s eta 0:00:18\n",
      "   -------------------- ------------------- 156.9/300.9 MB 8.3 MB/s eta 0:00:18\n",
      "   -------------------- ------------------- 157.2/300.9 MB 8.2 MB/s eta 0:00:18\n",
      "   -------------------- ------------------- 157.6/300.9 MB 8.2 MB/s eta 0:00:18\n",
      "   -------------------- ------------------- 157.9/300.9 MB 8.2 MB/s eta 0:00:18\n",
      "   --------------------- ------------------ 158.3/300.9 MB 8.1 MB/s eta 0:00:18\n",
      "   --------------------- ------------------ 158.7/300.9 MB 8.2 MB/s eta 0:00:18\n",
      "   --------------------- ------------------ 159.1/300.9 MB 8.2 MB/s eta 0:00:18\n",
      "   --------------------- ------------------ 159.5/300.9 MB 8.4 MB/s eta 0:00:17\n",
      "   --------------------- ------------------ 159.9/300.9 MB 8.4 MB/s eta 0:00:17\n",
      "   --------------------- ------------------ 160.3/300.9 MB 8.4 MB/s eta 0:00:17\n",
      "   --------------------- ------------------ 160.7/300.9 MB 8.4 MB/s eta 0:00:17\n",
      "   --------------------- ------------------ 161.1/300.9 MB 8.4 MB/s eta 0:00:17\n",
      "   --------------------- ------------------ 161.5/300.9 MB 8.4 MB/s eta 0:00:17\n",
      "   --------------------- ------------------ 161.9/300.9 MB 8.5 MB/s eta 0:00:17\n",
      "   --------------------- ------------------ 162.2/300.9 MB 8.5 MB/s eta 0:00:17\n",
      "   --------------------- ------------------ 162.6/300.9 MB 8.4 MB/s eta 0:00:17\n",
      "   --------------------- ------------------ 163.0/300.9 MB 8.5 MB/s eta 0:00:17\n",
      "   --------------------- ------------------ 163.4/300.9 MB 8.4 MB/s eta 0:00:17\n",
      "   --------------------- ------------------ 163.8/300.9 MB 8.4 MB/s eta 0:00:17\n",
      "   --------------------- ------------------ 164.1/300.9 MB 8.4 MB/s eta 0:00:17\n",
      "   --------------------- ------------------ 164.3/300.9 MB 8.2 MB/s eta 0:00:17\n",
      "   --------------------- ------------------ 164.7/300.9 MB 8.3 MB/s eta 0:00:17\n",
      "   --------------------- ------------------ 165.1/300.9 MB 8.2 MB/s eta 0:00:17\n",
      "   ---------------------- ----------------- 165.5/300.9 MB 8.3 MB/s eta 0:00:17\n",
      "   ---------------------- ----------------- 165.9/300.9 MB 8.2 MB/s eta 0:00:17\n",
      "   ---------------------- ----------------- 166.3/300.9 MB 8.2 MB/s eta 0:00:17\n",
      "   ---------------------- ----------------- 166.5/300.9 MB 8.2 MB/s eta 0:00:17\n",
      "   ---------------------- ----------------- 167.1/300.9 MB 8.2 MB/s eta 0:00:17\n",
      "   ---------------------- ----------------- 167.2/300.9 MB 8.0 MB/s eta 0:00:17\n",
      "   ---------------------- ----------------- 167.5/300.9 MB 8.0 MB/s eta 0:00:17\n",
      "   ---------------------- ----------------- 167.8/300.9 MB 7.9 MB/s eta 0:00:17\n",
      "   ---------------------- ----------------- 168.1/300.9 MB 7.8 MB/s eta 0:00:18\n",
      "   ---------------------- ----------------- 168.4/300.9 MB 7.9 MB/s eta 0:00:17\n",
      "   ---------------------- ----------------- 168.7/300.9 MB 7.8 MB/s eta 0:00:17\n",
      "   ---------------------- ----------------- 169.1/300.9 MB 7.7 MB/s eta 0:00:18\n",
      "   ---------------------- ----------------- 169.3/300.9 MB 7.5 MB/s eta 0:00:18\n",
      "   ---------------------- ----------------- 169.6/300.9 MB 7.5 MB/s eta 0:00:18\n",
      "   ---------------------- ----------------- 169.9/300.9 MB 7.4 MB/s eta 0:00:18\n",
      "   ---------------------- ----------------- 170.2/300.9 MB 7.4 MB/s eta 0:00:18\n",
      "   ---------------------- ----------------- 170.5/300.9 MB 7.4 MB/s eta 0:00:18\n",
      "   ---------------------- ----------------- 170.9/300.9 MB 7.3 MB/s eta 0:00:18\n",
      "   ---------------------- ----------------- 171.2/300.9 MB 7.3 MB/s eta 0:00:18\n",
      "   ---------------------- ----------------- 171.4/300.9 MB 7.1 MB/s eta 0:00:19\n",
      "   ---------------------- ----------------- 171.7/300.9 MB 7.0 MB/s eta 0:00:19\n",
      "   ---------------------- ----------------- 172.1/300.9 MB 7.1 MB/s eta 0:00:19\n",
      "   ---------------------- ----------------- 172.4/300.9 MB 7.0 MB/s eta 0:00:19\n",
      "   ---------------------- ----------------- 172.8/300.9 MB 7.0 MB/s eta 0:00:19\n",
      "   ----------------------- ---------------- 173.1/300.9 MB 7.0 MB/s eta 0:00:19\n",
      "   ----------------------- ---------------- 173.4/300.9 MB 7.0 MB/s eta 0:00:19\n",
      "   ----------------------- ---------------- 173.8/300.9 MB 6.9 MB/s eta 0:00:19\n",
      "   ----------------------- ---------------- 173.9/300.9 MB 6.9 MB/s eta 0:00:19\n",
      "   ----------------------- ---------------- 174.1/300.9 MB 6.8 MB/s eta 0:00:19\n",
      "   ----------------------- ---------------- 174.5/300.9 MB 6.8 MB/s eta 0:00:19\n",
      "   ----------------------- ---------------- 174.8/300.9 MB 6.8 MB/s eta 0:00:19\n",
      "   ----------------------- ---------------- 175.2/300.9 MB 6.8 MB/s eta 0:00:19\n",
      "   ----------------------- ---------------- 175.5/300.9 MB 6.7 MB/s eta 0:00:19\n",
      "   ----------------------- ---------------- 175.8/300.9 MB 6.7 MB/s eta 0:00:19\n",
      "   ----------------------- ---------------- 176.2/300.9 MB 6.7 MB/s eta 0:00:19\n",
      "   ----------------------- ---------------- 176.5/300.9 MB 6.7 MB/s eta 0:00:19\n",
      "   ----------------------- ---------------- 176.9/300.9 MB 6.8 MB/s eta 0:00:19\n",
      "   ----------------------- ---------------- 177.2/300.9 MB 6.7 MB/s eta 0:00:19\n",
      "   ----------------------- ---------------- 177.6/300.9 MB 6.8 MB/s eta 0:00:19\n",
      "   ----------------------- ---------------- 178.0/300.9 MB 6.8 MB/s eta 0:00:19\n",
      "   ----------------------- ---------------- 178.4/300.9 MB 7.0 MB/s eta 0:00:18\n",
      "   ----------------------- ---------------- 178.7/300.9 MB 7.0 MB/s eta 0:00:18\n",
      "   ----------------------- ---------------- 179.1/300.9 MB 7.0 MB/s eta 0:00:18\n",
      "   ----------------------- ---------------- 179.4/300.9 MB 7.0 MB/s eta 0:00:18\n",
      "   ----------------------- ---------------- 179.8/300.9 MB 7.0 MB/s eta 0:00:18\n",
      "   ----------------------- ---------------- 180.2/300.9 MB 7.1 MB/s eta 0:00:17\n",
      "   ----------------------- ---------------- 180.5/300.9 MB 7.1 MB/s eta 0:00:17\n",
      "   ------------------------ --------------- 180.9/300.9 MB 7.2 MB/s eta 0:00:17\n",
      "   ------------------------ --------------- 181.2/300.9 MB 7.2 MB/s eta 0:00:17\n",
      "   ------------------------ --------------- 181.6/300.9 MB 7.3 MB/s eta 0:00:17\n",
      "   ------------------------ --------------- 182.0/300.9 MB 7.4 MB/s eta 0:00:17\n",
      "   ------------------------ --------------- 182.3/300.9 MB 7.4 MB/s eta 0:00:17\n",
      "   ------------------------ --------------- 182.7/300.9 MB 7.4 MB/s eta 0:00:16\n",
      "   ------------------------ --------------- 183.1/300.9 MB 7.4 MB/s eta 0:00:16\n",
      "   ------------------------ --------------- 183.5/300.9 MB 7.4 MB/s eta 0:00:16\n",
      "   ------------------------ --------------- 183.9/300.9 MB 7.5 MB/s eta 0:00:16\n",
      "   ------------------------ --------------- 184.3/300.9 MB 7.8 MB/s eta 0:00:15\n",
      "   ------------------------ --------------- 184.7/300.9 MB 7.8 MB/s eta 0:00:15\n",
      "   ------------------------ --------------- 185.1/300.9 MB 7.9 MB/s eta 0:00:15\n",
      "   ------------------------ --------------- 185.5/300.9 MB 7.9 MB/s eta 0:00:15\n",
      "   ------------------------ --------------- 185.8/300.9 MB 8.0 MB/s eta 0:00:15\n",
      "   ------------------------ --------------- 186.2/300.9 MB 8.0 MB/s eta 0:00:15\n",
      "   ------------------------ --------------- 186.6/300.9 MB 8.0 MB/s eta 0:00:15\n",
      "   ------------------------ --------------- 187.0/300.9 MB 8.0 MB/s eta 0:00:15\n",
      "   ------------------------ --------------- 187.4/300.9 MB 8.0 MB/s eta 0:00:15\n",
      "   ------------------------ --------------- 187.8/300.9 MB 8.1 MB/s eta 0:00:15\n",
      "   ------------------------- -------------- 188.1/300.9 MB 8.0 MB/s eta 0:00:15\n",
      "   ------------------------- -------------- 188.4/300.9 MB 8.0 MB/s eta 0:00:15\n",
      "   ------------------------- -------------- 188.9/300.9 MB 8.0 MB/s eta 0:00:15\n",
      "   ------------------------- -------------- 189.2/300.9 MB 8.0 MB/s eta 0:00:14\n",
      "   ------------------------- -------------- 189.6/300.9 MB 8.1 MB/s eta 0:00:14\n",
      "   ------------------------- -------------- 190.1/300.9 MB 8.2 MB/s eta 0:00:14\n",
      "   ------------------------- -------------- 190.5/300.9 MB 8.2 MB/s eta 0:00:14\n",
      "   ------------------------- -------------- 190.7/300.9 MB 8.2 MB/s eta 0:00:14\n",
      "   ------------------------- -------------- 191.0/300.9 MB 8.1 MB/s eta 0:00:14\n",
      "   ------------------------- -------------- 191.5/300.9 MB 8.2 MB/s eta 0:00:14\n",
      "   ------------------------- -------------- 191.9/300.9 MB 8.2 MB/s eta 0:00:14\n",
      "   ------------------------- -------------- 192.3/300.9 MB 8.2 MB/s eta 0:00:14\n",
      "   ------------------------- -------------- 192.7/300.9 MB 8.2 MB/s eta 0:00:14\n",
      "   ------------------------- -------------- 193.1/300.9 MB 8.2 MB/s eta 0:00:14\n",
      "   ------------------------- -------------- 193.5/300.9 MB 8.2 MB/s eta 0:00:14\n",
      "   ------------------------- -------------- 193.9/300.9 MB 8.3 MB/s eta 0:00:13\n",
      "   ------------------------- -------------- 194.1/300.9 MB 8.2 MB/s eta 0:00:14\n",
      "   ------------------------- -------------- 194.5/300.9 MB 8.1 MB/s eta 0:00:14\n",
      "   ------------------------- -------------- 194.9/300.9 MB 8.1 MB/s eta 0:00:14\n",
      "   ------------------------- -------------- 195.3/300.9 MB 8.1 MB/s eta 0:00:14\n",
      "   -------------------------- ------------- 195.7/300.9 MB 8.2 MB/s eta 0:00:13\n",
      "   -------------------------- ------------- 196.1/300.9 MB 8.2 MB/s eta 0:00:13\n",
      "   -------------------------- ------------- 196.5/300.9 MB 8.2 MB/s eta 0:00:13\n",
      "   -------------------------- ------------- 196.9/300.9 MB 8.2 MB/s eta 0:00:13\n",
      "   -------------------------- ------------- 197.3/300.9 MB 8.2 MB/s eta 0:00:13\n",
      "   -------------------------- ------------- 197.7/300.9 MB 8.2 MB/s eta 0:00:13\n",
      "   -------------------------- ------------- 198.1/300.9 MB 8.2 MB/s eta 0:00:13\n",
      "   -------------------------- ------------- 198.6/300.9 MB 8.3 MB/s eta 0:00:13\n",
      "   -------------------------- ------------- 198.9/300.9 MB 8.4 MB/s eta 0:00:13\n",
      "   -------------------------- ------------- 199.4/300.9 MB 8.4 MB/s eta 0:00:13\n",
      "   -------------------------- ------------- 199.8/300.9 MB 8.5 MB/s eta 0:00:12\n",
      "   -------------------------- ------------- 199.9/300.9 MB 8.4 MB/s eta 0:00:13\n",
      "   -------------------------- ------------- 200.1/300.9 MB 8.1 MB/s eta 0:00:13\n",
      "   -------------------------- ------------- 200.5/300.9 MB 8.0 MB/s eta 0:00:13\n",
      "   -------------------------- ------------- 200.9/300.9 MB 8.0 MB/s eta 0:00:13\n",
      "   -------------------------- ------------- 201.2/300.9 MB 8.0 MB/s eta 0:00:13\n",
      "   -------------------------- ------------- 201.6/300.9 MB 8.0 MB/s eta 0:00:13\n",
      "   -------------------------- ------------- 202.0/300.9 MB 8.0 MB/s eta 0:00:13\n",
      "   -------------------------- ------------- 202.2/300.9 MB 8.1 MB/s eta 0:00:13\n",
      "   -------------------------- ------------- 202.2/300.9 MB 8.1 MB/s eta 0:00:13\n",
      "   -------------------------- ------------- 202.8/300.9 MB 7.8 MB/s eta 0:00:13\n",
      "   -------------------------- ------------- 203.1/300.9 MB 7.7 MB/s eta 0:00:13\n",
      "   --------------------------- ------------ 203.4/300.9 MB 7.5 MB/s eta 0:00:13\n",
      "   --------------------------- ------------ 203.7/300.9 MB 7.5 MB/s eta 0:00:13\n",
      "   --------------------------- ------------ 204.0/300.9 MB 7.4 MB/s eta 0:00:14\n",
      "   --------------------------- ------------ 204.3/300.9 MB 7.3 MB/s eta 0:00:14\n",
      "   --------------------------- ------------ 204.6/300.9 MB 7.5 MB/s eta 0:00:13\n",
      "   --------------------------- ------------ 204.8/300.9 MB 7.4 MB/s eta 0:00:13\n",
      "   --------------------------- ------------ 205.1/300.9 MB 7.4 MB/s eta 0:00:14\n",
      "   --------------------------- ------------ 205.4/300.9 MB 7.3 MB/s eta 0:00:14\n",
      "   --------------------------- ------------ 205.7/300.9 MB 7.2 MB/s eta 0:00:14\n",
      "   --------------------------- ------------ 206.0/300.9 MB 7.1 MB/s eta 0:00:14\n",
      "   --------------------------- ------------ 206.4/300.9 MB 7.1 MB/s eta 0:00:14\n",
      "   --------------------------- ------------ 206.7/300.9 MB 7.1 MB/s eta 0:00:14\n",
      "   --------------------------- ------------ 207.0/300.9 MB 7.0 MB/s eta 0:00:14\n",
      "   --------------------------- ------------ 207.4/300.9 MB 7.0 MB/s eta 0:00:14\n",
      "   --------------------------- ------------ 207.7/300.9 MB 6.9 MB/s eta 0:00:14\n",
      "   --------------------------- ------------ 208.0/300.9 MB 6.9 MB/s eta 0:00:14\n",
      "   --------------------------- ------------ 208.4/300.9 MB 6.9 MB/s eta 0:00:14\n",
      "   --------------------------- ------------ 208.7/300.9 MB 6.8 MB/s eta 0:00:14\n",
      "   --------------------------- ------------ 209.0/300.9 MB 6.8 MB/s eta 0:00:14\n",
      "   --------------------------- ------------ 209.4/300.9 MB 6.8 MB/s eta 0:00:14\n",
      "   --------------------------- ------------ 209.6/300.9 MB 6.6 MB/s eta 0:00:14\n",
      "   --------------------------- ------------ 209.9/300.9 MB 6.6 MB/s eta 0:00:14\n",
      "   --------------------------- ------------ 210.2/300.9 MB 6.7 MB/s eta 0:00:14\n",
      "   --------------------------- ------------ 210.6/300.9 MB 6.8 MB/s eta 0:00:14\n",
      "   ---------------------------- ----------- 211.0/300.9 MB 6.8 MB/s eta 0:00:14\n",
      "   ---------------------------- ----------- 211.3/300.9 MB 6.8 MB/s eta 0:00:14\n",
      "   ---------------------------- ----------- 211.8/300.9 MB 6.8 MB/s eta 0:00:14\n",
      "   ---------------------------- ----------- 212.1/300.9 MB 6.7 MB/s eta 0:00:14\n",
      "   ---------------------------- ----------- 212.5/300.9 MB 7.1 MB/s eta 0:00:13\n",
      "   ---------------------------- ----------- 212.6/300.9 MB 6.9 MB/s eta 0:00:13\n",
      "   ---------------------------- ----------- 213.0/300.9 MB 6.8 MB/s eta 0:00:13\n",
      "   ---------------------------- ----------- 213.4/300.9 MB 6.9 MB/s eta 0:00:13\n",
      "   ---------------------------- ----------- 213.8/300.9 MB 6.9 MB/s eta 0:00:13\n",
      "   ---------------------------- ----------- 214.1/300.9 MB 7.0 MB/s eta 0:00:13\n",
      "   ---------------------------- ----------- 214.4/300.9 MB 6.9 MB/s eta 0:00:13\n",
      "   ---------------------------- ----------- 214.8/300.9 MB 7.0 MB/s eta 0:00:13\n",
      "   ---------------------------- ----------- 215.1/300.9 MB 7.0 MB/s eta 0:00:13\n",
      "   ---------------------------- ----------- 215.6/300.9 MB 7.2 MB/s eta 0:00:12\n",
      "   ---------------------------- ----------- 216.0/300.9 MB 7.3 MB/s eta 0:00:12\n",
      "   ---------------------------- ----------- 216.3/300.9 MB 7.3 MB/s eta 0:00:12\n",
      "   ---------------------------- ----------- 216.7/300.9 MB 7.4 MB/s eta 0:00:12\n",
      "   ---------------------------- ----------- 217.1/300.9 MB 7.4 MB/s eta 0:00:12\n",
      "   ---------------------------- ----------- 217.5/300.9 MB 7.4 MB/s eta 0:00:12\n",
      "   ---------------------------- ----------- 217.9/300.9 MB 7.4 MB/s eta 0:00:12\n",
      "   ---------------------------- ----------- 218.1/300.9 MB 7.4 MB/s eta 0:00:12\n",
      "   ----------------------------- ---------- 218.5/300.9 MB 7.4 MB/s eta 0:00:12\n",
      "   ----------------------------- ---------- 218.9/300.9 MB 7.4 MB/s eta 0:00:12\n",
      "   ----------------------------- ---------- 219.2/300.9 MB 7.4 MB/s eta 0:00:12\n",
      "   ----------------------------- ---------- 219.5/300.9 MB 7.4 MB/s eta 0:00:11\n",
      "   ----------------------------- ---------- 219.9/300.9 MB 7.5 MB/s eta 0:00:11\n",
      "   ----------------------------- ---------- 220.3/300.9 MB 7.5 MB/s eta 0:00:11\n",
      "   ----------------------------- ---------- 220.7/300.9 MB 7.7 MB/s eta 0:00:11\n",
      "   ----------------------------- ---------- 221.1/300.9 MB 7.7 MB/s eta 0:00:11\n",
      "   ----------------------------- ---------- 221.5/300.9 MB 7.7 MB/s eta 0:00:11\n",
      "   ----------------------------- ---------- 221.8/300.9 MB 7.7 MB/s eta 0:00:11\n",
      "   ----------------------------- ---------- 222.4/300.9 MB 7.8 MB/s eta 0:00:11\n",
      "   ----------------------------- ---------- 222.8/300.9 MB 8.1 MB/s eta 0:00:10\n",
      "   ----------------------------- ---------- 223.2/300.9 MB 8.1 MB/s eta 0:00:10\n",
      "   ----------------------------- ---------- 223.6/300.9 MB 8.1 MB/s eta 0:00:10\n",
      "   ----------------------------- ---------- 223.9/300.9 MB 7.9 MB/s eta 0:00:10\n",
      "   ----------------------------- ---------- 224.1/300.9 MB 7.9 MB/s eta 0:00:10\n",
      "   ----------------------------- ---------- 224.5/300.9 MB 7.9 MB/s eta 0:00:10\n",
      "   ----------------------------- ---------- 224.9/300.9 MB 7.9 MB/s eta 0:00:10\n",
      "   ----------------------------- ---------- 225.3/300.9 MB 7.9 MB/s eta 0:00:10\n",
      "   ----------------------------- ---------- 225.7/300.9 MB 7.9 MB/s eta 0:00:10\n",
      "   ------------------------------ --------- 226.1/300.9 MB 8.0 MB/s eta 0:00:10\n",
      "   ------------------------------ --------- 226.5/300.9 MB 7.9 MB/s eta 0:00:10\n",
      "   ------------------------------ --------- 226.9/300.9 MB 7.9 MB/s eta 0:00:10\n",
      "   ------------------------------ --------- 227.2/300.9 MB 7.9 MB/s eta 0:00:10\n",
      "   ------------------------------ --------- 227.6/300.9 MB 8.0 MB/s eta 0:00:10\n",
      "   ------------------------------ --------- 228.0/300.9 MB 7.9 MB/s eta 0:00:10\n",
      "   ------------------------------ --------- 228.4/300.9 MB 8.1 MB/s eta 0:00:09\n",
      "   ------------------------------ --------- 228.8/300.9 MB 8.1 MB/s eta 0:00:09\n",
      "   ------------------------------ --------- 229.2/300.9 MB 8.2 MB/s eta 0:00:09\n",
      "   ------------------------------ --------- 229.5/300.9 MB 8.2 MB/s eta 0:00:09\n",
      "   ------------------------------ --------- 229.8/300.9 MB 8.1 MB/s eta 0:00:09\n",
      "   ------------------------------ --------- 230.1/300.9 MB 8.0 MB/s eta 0:00:09\n",
      "   ------------------------------ --------- 230.6/300.9 MB 8.1 MB/s eta 0:00:09\n",
      "   ------------------------------ --------- 231.0/300.9 MB 8.1 MB/s eta 0:00:09\n",
      "   ------------------------------ --------- 231.4/300.9 MB 8.1 MB/s eta 0:00:09\n",
      "   ------------------------------ --------- 231.8/300.9 MB 8.1 MB/s eta 0:00:09\n",
      "   ------------------------------ --------- 232.2/300.9 MB 8.2 MB/s eta 0:00:09\n",
      "   ------------------------------ --------- 232.7/300.9 MB 8.2 MB/s eta 0:00:09\n",
      "   ------------------------------ --------- 233.1/300.9 MB 8.2 MB/s eta 0:00:09\n",
      "   ------------------------------- -------- 233.5/300.9 MB 8.2 MB/s eta 0:00:09\n",
      "   ------------------------------- -------- 234.0/300.9 MB 8.2 MB/s eta 0:00:09\n",
      "   ------------------------------- -------- 234.4/300.9 MB 8.4 MB/s eta 0:00:08\n",
      "   ------------------------------- -------- 234.7/300.9 MB 8.5 MB/s eta 0:00:08\n",
      "   ------------------------------- -------- 235.2/300.9 MB 8.6 MB/s eta 0:00:08\n",
      "   ------------------------------- -------- 235.7/300.9 MB 8.6 MB/s eta 0:00:08\n",
      "   ------------------------------- -------- 236.1/300.9 MB 8.5 MB/s eta 0:00:08\n",
      "   ------------------------------- -------- 236.5/300.9 MB 8.6 MB/s eta 0:00:08\n",
      "   ------------------------------- -------- 236.9/300.9 MB 8.7 MB/s eta 0:00:08\n",
      "   ------------------------------- -------- 236.9/300.9 MB 8.7 MB/s eta 0:00:08\n",
      "   ------------------------------- -------- 237.7/300.9 MB 8.8 MB/s eta 0:00:08\n",
      "   ------------------------------- -------- 238.1/300.9 MB 8.6 MB/s eta 0:00:08\n",
      "   ------------------------------- -------- 238.4/300.9 MB 8.6 MB/s eta 0:00:08\n",
      "   ------------------------------- -------- 238.7/300.9 MB 8.5 MB/s eta 0:00:08\n",
      "   ------------------------------- -------- 238.8/300.9 MB 8.5 MB/s eta 0:00:08\n",
      "   ------------------------------- -------- 239.2/300.9 MB 8.4 MB/s eta 0:00:08\n",
      "   ------------------------------- -------- 239.5/300.9 MB 8.2 MB/s eta 0:00:08\n",
      "   ------------------------------- -------- 239.7/300.9 MB 8.0 MB/s eta 0:00:08\n",
      "   ------------------------------- -------- 239.9/300.9 MB 8.0 MB/s eta 0:00:08\n",
      "   ------------------------------- -------- 240.1/300.9 MB 8.0 MB/s eta 0:00:08\n",
      "   ------------------------------- -------- 240.4/300.9 MB 7.9 MB/s eta 0:00:08\n",
      "   ------------------------------- -------- 240.6/300.9 MB 7.8 MB/s eta 0:00:08\n",
      "   -------------------------------- ------- 240.9/300.9 MB 7.6 MB/s eta 0:00:08\n",
      "   -------------------------------- ------- 241.2/300.9 MB 7.5 MB/s eta 0:00:08\n",
      "   -------------------------------- ------- 241.4/300.9 MB 7.4 MB/s eta 0:00:09\n",
      "   -------------------------------- ------- 241.6/300.9 MB 7.4 MB/s eta 0:00:09\n",
      "   -------------------------------- ------- 241.9/300.9 MB 7.2 MB/s eta 0:00:09\n",
      "   -------------------------------- ------- 242.1/300.9 MB 7.1 MB/s eta 0:00:09\n",
      "   -------------------------------- ------- 242.4/300.9 MB 7.0 MB/s eta 0:00:09\n",
      "   -------------------------------- ------- 242.7/300.9 MB 7.0 MB/s eta 0:00:09\n",
      "   -------------------------------- ------- 242.8/300.9 MB 6.9 MB/s eta 0:00:09\n",
      "   -------------------------------- ------- 243.1/300.9 MB 6.7 MB/s eta 0:00:09\n",
      "   -------------------------------- ------- 243.3/300.9 MB 6.8 MB/s eta 0:00:09\n",
      "   -------------------------------- ------- 243.6/300.9 MB 6.5 MB/s eta 0:00:09\n",
      "   -------------------------------- ------- 243.8/300.9 MB 6.5 MB/s eta 0:00:09\n",
      "   -------------------------------- ------- 244.2/300.9 MB 6.4 MB/s eta 0:00:09\n",
      "   -------------------------------- ------- 244.4/300.9 MB 6.4 MB/s eta 0:00:09\n",
      "   -------------------------------- ------- 244.7/300.9 MB 6.3 MB/s eta 0:00:09\n",
      "   -------------------------------- ------- 245.0/300.9 MB 6.3 MB/s eta 0:00:09\n",
      "   -------------------------------- ------- 245.2/300.9 MB 6.2 MB/s eta 0:00:10\n",
      "   -------------------------------- ------- 245.5/300.9 MB 6.2 MB/s eta 0:00:09\n",
      "   -------------------------------- ------- 245.8/300.9 MB 6.1 MB/s eta 0:00:10\n",
      "   -------------------------------- ------- 246.1/300.9 MB 6.0 MB/s eta 0:00:10\n",
      "   -------------------------------- ------- 246.3/300.9 MB 5.9 MB/s eta 0:00:10\n",
      "   -------------------------------- ------- 246.6/300.9 MB 5.8 MB/s eta 0:00:10\n",
      "   -------------------------------- ------- 246.9/300.9 MB 5.8 MB/s eta 0:00:10\n",
      "   -------------------------------- ------- 247.2/300.9 MB 5.9 MB/s eta 0:00:10\n",
      "   -------------------------------- ------- 247.4/300.9 MB 5.8 MB/s eta 0:00:10\n",
      "   -------------------------------- ------- 247.7/300.9 MB 5.7 MB/s eta 0:00:10\n",
      "   -------------------------------- ------- 248.1/300.9 MB 5.6 MB/s eta 0:00:10\n",
      "   --------------------------------- ------ 248.3/300.9 MB 5.6 MB/s eta 0:00:10\n",
      "   --------------------------------- ------ 248.6/300.9 MB 5.6 MB/s eta 0:00:10\n",
      "   --------------------------------- ------ 248.9/300.9 MB 5.6 MB/s eta 0:00:10\n",
      "   --------------------------------- ------ 249.2/300.9 MB 5.7 MB/s eta 0:00:10\n",
      "   --------------------------------- ------ 249.5/300.9 MB 5.6 MB/s eta 0:00:10\n",
      "   --------------------------------- ------ 249.8/300.9 MB 5.6 MB/s eta 0:00:10\n",
      "   --------------------------------- ------ 250.1/300.9 MB 5.7 MB/s eta 0:00:09\n",
      "   --------------------------------- ------ 250.4/300.9 MB 5.7 MB/s eta 0:00:09\n",
      "   --------------------------------- ------ 250.7/300.9 MB 5.8 MB/s eta 0:00:09\n",
      "   --------------------------------- ------ 250.9/300.9 MB 5.8 MB/s eta 0:00:09\n",
      "   --------------------------------- ------ 251.2/300.9 MB 5.8 MB/s eta 0:00:09\n",
      "   --------------------------------- ------ 251.5/300.9 MB 5.9 MB/s eta 0:00:09\n",
      "   --------------------------------- ------ 251.9/300.9 MB 6.0 MB/s eta 0:00:09\n",
      "   --------------------------------- ------ 252.2/300.9 MB 6.0 MB/s eta 0:00:09\n",
      "   --------------------------------- ------ 252.5/300.9 MB 6.0 MB/s eta 0:00:09\n",
      "   --------------------------------- ------ 252.8/300.9 MB 6.1 MB/s eta 0:00:08\n",
      "   --------------------------------- ------ 253.2/300.9 MB 6.2 MB/s eta 0:00:08\n",
      "   --------------------------------- ------ 253.5/300.9 MB 6.2 MB/s eta 0:00:08\n",
      "   --------------------------------- ------ 253.8/300.9 MB 6.2 MB/s eta 0:00:08\n",
      "   --------------------------------- ------ 254.0/300.9 MB 6.2 MB/s eta 0:00:08\n",
      "   --------------------------------- ------ 254.4/300.9 MB 6.3 MB/s eta 0:00:08\n",
      "   --------------------------------- ------ 254.7/300.9 MB 6.4 MB/s eta 0:00:08\n",
      "   --------------------------------- ------ 254.9/300.9 MB 6.4 MB/s eta 0:00:08\n",
      "   --------------------------------- ------ 255.3/300.9 MB 6.4 MB/s eta 0:00:08\n",
      "   --------------------------------- ------ 255.6/300.9 MB 6.4 MB/s eta 0:00:08\n",
      "   ---------------------------------- ----- 255.9/300.9 MB 6.4 MB/s eta 0:00:08\n",
      "   ---------------------------------- ----- 256.2/300.9 MB 6.4 MB/s eta 0:00:07\n",
      "   ---------------------------------- ----- 256.6/300.9 MB 6.5 MB/s eta 0:00:07\n",
      "   ---------------------------------- ----- 256.9/300.9 MB 6.5 MB/s eta 0:00:07\n",
      "   ---------------------------------- ----- 257.3/300.9 MB 6.6 MB/s eta 0:00:07\n",
      "   ---------------------------------- ----- 257.6/300.9 MB 6.6 MB/s eta 0:00:07\n",
      "   ---------------------------------- ----- 258.0/300.9 MB 6.6 MB/s eta 0:00:07\n",
      "   ---------------------------------- ----- 258.3/300.9 MB 6.7 MB/s eta 0:00:07\n",
      "   ---------------------------------- ----- 258.7/300.9 MB 6.7 MB/s eta 0:00:07\n",
      "   ---------------------------------- ----- 259.1/300.9 MB 6.7 MB/s eta 0:00:07\n",
      "   ---------------------------------- ----- 259.3/300.9 MB 6.7 MB/s eta 0:00:07\n",
      "   ---------------------------------- ----- 259.5/300.9 MB 6.8 MB/s eta 0:00:07\n",
      "   ---------------------------------- ----- 259.9/300.9 MB 6.8 MB/s eta 0:00:07\n",
      "   ---------------------------------- ----- 260.2/300.9 MB 6.8 MB/s eta 0:00:06\n",
      "   ---------------------------------- ----- 260.6/300.9 MB 6.9 MB/s eta 0:00:06\n",
      "   ---------------------------------- ----- 261.0/300.9 MB 6.9 MB/s eta 0:00:06\n",
      "   ---------------------------------- ----- 261.4/300.9 MB 7.0 MB/s eta 0:00:06\n",
      "   ---------------------------------- ----- 261.7/300.9 MB 7.0 MB/s eta 0:00:06\n",
      "   ---------------------------------- ----- 262.1/300.9 MB 7.0 MB/s eta 0:00:06\n",
      "   ---------------------------------- ----- 262.5/300.9 MB 7.1 MB/s eta 0:00:06\n",
      "   ---------------------------------- ----- 262.8/300.9 MB 7.1 MB/s eta 0:00:06\n",
      "   ---------------------------------- ----- 263.2/300.9 MB 7.2 MB/s eta 0:00:06\n",
      "   ----------------------------------- ---- 263.6/300.9 MB 7.2 MB/s eta 0:00:06\n",
      "   ----------------------------------- ---- 264.0/300.9 MB 7.3 MB/s eta 0:00:06\n",
      "   ----------------------------------- ---- 264.3/300.9 MB 7.4 MB/s eta 0:00:05\n",
      "   ----------------------------------- ---- 264.6/300.9 MB 7.3 MB/s eta 0:00:05\n",
      "   ----------------------------------- ---- 264.9/300.9 MB 7.4 MB/s eta 0:00:05\n",
      "   ----------------------------------- ---- 265.4/300.9 MB 7.4 MB/s eta 0:00:05\n",
      "   ----------------------------------- ---- 265.7/300.9 MB 7.4 MB/s eta 0:00:05\n",
      "   ----------------------------------- ---- 266.1/300.9 MB 7.5 MB/s eta 0:00:05\n",
      "   ----------------------------------- ---- 266.5/300.9 MB 7.5 MB/s eta 0:00:05\n",
      "   ----------------------------------- ---- 266.9/300.9 MB 7.6 MB/s eta 0:00:05\n",
      "   ----------------------------------- ---- 267.3/300.9 MB 7.6 MB/s eta 0:00:05\n",
      "   ----------------------------------- ---- 267.7/300.9 MB 7.7 MB/s eta 0:00:05\n",
      "   ----------------------------------- ---- 268.0/300.9 MB 7.8 MB/s eta 0:00:05\n",
      "   ----------------------------------- ---- 268.4/300.9 MB 7.7 MB/s eta 0:00:05\n",
      "   ----------------------------------- ---- 268.9/300.9 MB 7.8 MB/s eta 0:00:05\n",
      "   ----------------------------------- ---- 269.3/300.9 MB 7.8 MB/s eta 0:00:05\n",
      "   ----------------------------------- ---- 269.5/300.9 MB 7.9 MB/s eta 0:00:04\n",
      "   ----------------------------------- ---- 269.9/300.9 MB 8.0 MB/s eta 0:00:04\n",
      "   ----------------------------------- ---- 270.3/300.9 MB 8.0 MB/s eta 0:00:04\n",
      "   ----------------------------------- ---- 270.7/300.9 MB 8.0 MB/s eta 0:00:04\n",
      "   ------------------------------------ --- 271.1/300.9 MB 8.1 MB/s eta 0:00:04\n",
      "   ------------------------------------ --- 271.5/300.9 MB 8.1 MB/s eta 0:00:04\n",
      "   ------------------------------------ --- 271.9/300.9 MB 8.2 MB/s eta 0:00:04\n",
      "   ------------------------------------ --- 272.3/300.9 MB 8.2 MB/s eta 0:00:04\n",
      "   ------------------------------------ --- 272.7/300.9 MB 8.2 MB/s eta 0:00:04\n",
      "   ------------------------------------ --- 273.1/300.9 MB 8.2 MB/s eta 0:00:04\n",
      "   ------------------------------------ --- 273.6/300.9 MB 8.3 MB/s eta 0:00:04\n",
      "   ------------------------------------ --- 273.9/300.9 MB 8.3 MB/s eta 0:00:04\n",
      "   ------------------------------------ --- 274.3/300.9 MB 8.3 MB/s eta 0:00:04\n",
      "   ------------------------------------ --- 274.7/300.9 MB 8.4 MB/s eta 0:00:04\n",
      "   ------------------------------------ --- 275.1/300.9 MB 8.4 MB/s eta 0:00:04\n",
      "   ------------------------------------ --- 275.4/300.9 MB 8.4 MB/s eta 0:00:04\n",
      "   ------------------------------------ --- 275.9/300.9 MB 8.4 MB/s eta 0:00:03\n",
      "   ------------------------------------ --- 276.3/300.9 MB 8.5 MB/s eta 0:00:03\n",
      "   ------------------------------------ --- 276.8/300.9 MB 8.5 MB/s eta 0:00:03\n",
      "   ------------------------------------ --- 277.2/300.9 MB 8.6 MB/s eta 0:00:03\n",
      "   ------------------------------------ --- 277.6/300.9 MB 8.6 MB/s eta 0:00:03\n",
      "   ------------------------------------ --- 278.1/300.9 MB 8.6 MB/s eta 0:00:03\n",
      "   ------------------------------------- -- 278.5/300.9 MB 8.6 MB/s eta 0:00:03\n",
      "   ------------------------------------- -- 278.7/300.9 MB 8.7 MB/s eta 0:00:03\n",
      "   ------------------------------------- -- 279.0/300.9 MB 8.6 MB/s eta 0:00:03\n",
      "   ------------------------------------- -- 279.6/300.9 MB 8.7 MB/s eta 0:00:03\n",
      "   ------------------------------------- -- 279.9/300.9 MB 8.6 MB/s eta 0:00:03\n",
      "   ------------------------------------- -- 280.0/300.9 MB 8.4 MB/s eta 0:00:03\n",
      "   ------------------------------------- -- 280.2/300.9 MB 8.2 MB/s eta 0:00:03\n",
      "   ------------------------------------- -- 280.3/300.9 MB 8.1 MB/s eta 0:00:03\n",
      "   ------------------------------------- -- 280.5/300.9 MB 7.9 MB/s eta 0:00:03\n",
      "   ------------------------------------- -- 280.7/300.9 MB 7.7 MB/s eta 0:00:03\n",
      "   ------------------------------------- -- 280.9/300.9 MB 7.6 MB/s eta 0:00:03\n",
      "   ------------------------------------- -- 281.0/300.9 MB 7.5 MB/s eta 0:00:03\n",
      "   ------------------------------------- -- 281.3/300.9 MB 7.4 MB/s eta 0:00:03\n",
      "   ------------------------------------- -- 281.5/300.9 MB 7.3 MB/s eta 0:00:03\n",
      "   ------------------------------------- -- 281.8/300.9 MB 7.2 MB/s eta 0:00:03\n",
      "   ------------------------------------- -- 282.1/300.9 MB 7.1 MB/s eta 0:00:03\n",
      "   ------------------------------------- -- 282.4/300.9 MB 7.0 MB/s eta 0:00:03\n",
      "   ------------------------------------- -- 282.7/300.9 MB 7.0 MB/s eta 0:00:03\n",
      "   ------------------------------------- -- 283.0/300.9 MB 7.0 MB/s eta 0:00:03\n",
      "   ------------------------------------- -- 283.3/300.9 MB 6.9 MB/s eta 0:00:03\n",
      "   ------------------------------------- -- 283.5/300.9 MB 6.7 MB/s eta 0:00:03\n",
      "   ------------------------------------- -- 283.8/300.9 MB 6.7 MB/s eta 0:00:03\n",
      "   ------------------------------------- -- 284.1/300.9 MB 6.6 MB/s eta 0:00:03\n",
      "   ------------------------------------- -- 284.4/300.9 MB 6.6 MB/s eta 0:00:03\n",
      "   ------------------------------------- -- 284.5/300.9 MB 6.5 MB/s eta 0:00:03\n",
      "   ------------------------------------- -- 284.9/300.9 MB 6.5 MB/s eta 0:00:03\n",
      "   ------------------------------------- -- 285.2/300.9 MB 6.4 MB/s eta 0:00:03\n",
      "   ------------------------------------- -- 285.5/300.9 MB 6.4 MB/s eta 0:00:03\n",
      "   ------------------------------------- -- 285.8/300.9 MB 6.4 MB/s eta 0:00:03\n",
      "   -------------------------------------- - 286.1/300.9 MB 6.3 MB/s eta 0:00:03\n",
      "   -------------------------------------- - 286.4/300.9 MB 6.3 MB/s eta 0:00:03\n",
      "   -------------------------------------- - 286.7/300.9 MB 6.2 MB/s eta 0:00:03\n",
      "   -------------------------------------- - 287.0/300.9 MB 6.2 MB/s eta 0:00:03\n",
      "   -------------------------------------- - 287.4/300.9 MB 6.1 MB/s eta 0:00:03\n",
      "   -------------------------------------- - 287.6/300.9 MB 6.1 MB/s eta 0:00:03\n",
      "   -------------------------------------- - 287.9/300.9 MB 6.0 MB/s eta 0:00:03\n",
      "   -------------------------------------- - 288.2/300.9 MB 6.0 MB/s eta 0:00:03\n",
      "   -------------------------------------- - 288.5/300.9 MB 5.9 MB/s eta 0:00:03\n",
      "   -------------------------------------- - 288.7/300.9 MB 5.8 MB/s eta 0:00:03\n",
      "   -------------------------------------- - 289.0/300.9 MB 5.9 MB/s eta 0:00:03\n",
      "   -------------------------------------- - 289.3/300.9 MB 5.9 MB/s eta 0:00:02\n",
      "   -------------------------------------- - 289.6/300.9 MB 5.8 MB/s eta 0:00:02\n",
      "   -------------------------------------- - 289.9/300.9 MB 5.8 MB/s eta 0:00:02\n",
      "   -------------------------------------- - 290.2/300.9 MB 5.8 MB/s eta 0:00:02\n",
      "   -------------------------------------- - 290.5/300.9 MB 5.8 MB/s eta 0:00:02\n",
      "   -------------------------------------- - 290.7/300.9 MB 6.0 MB/s eta 0:00:02\n",
      "   -------------------------------------- - 291.0/300.9 MB 6.1 MB/s eta 0:00:02\n",
      "   -------------------------------------- - 291.3/300.9 MB 6.1 MB/s eta 0:00:02\n",
      "   -------------------------------------- - 291.6/300.9 MB 6.2 MB/s eta 0:00:02\n",
      "   -------------------------------------- - 291.9/300.9 MB 6.2 MB/s eta 0:00:02\n",
      "   -------------------------------------- - 292.2/300.9 MB 6.2 MB/s eta 0:00:02\n",
      "   -------------------------------------- - 292.5/300.9 MB 6.2 MB/s eta 0:00:02\n",
      "   -------------------------------------- - 292.8/300.9 MB 6.2 MB/s eta 0:00:02\n",
      "   -------------------------------------- - 293.2/300.9 MB 6.3 MB/s eta 0:00:02\n",
      "   ---------------------------------------  293.5/300.9 MB 6.3 MB/s eta 0:00:02\n",
      "   ---------------------------------------  293.8/300.9 MB 6.4 MB/s eta 0:00:02\n",
      "   ---------------------------------------  294.2/300.9 MB 6.4 MB/s eta 0:00:02\n",
      "   ---------------------------------------  294.5/300.9 MB 6.4 MB/s eta 0:00:02\n",
      "   ---------------------------------------  294.8/300.9 MB 6.5 MB/s eta 0:00:01\n",
      "   ---------------------------------------  295.1/300.9 MB 6.5 MB/s eta 0:00:01\n",
      "   ---------------------------------------  295.3/300.9 MB 6.5 MB/s eta 0:00:01\n",
      "   ---------------------------------------  295.5/300.9 MB 6.4 MB/s eta 0:00:01\n",
      "   ---------------------------------------  295.8/300.9 MB 6.4 MB/s eta 0:00:01\n",
      "   ---------------------------------------  296.2/300.9 MB 6.3 MB/s eta 0:00:01\n",
      "   ---------------------------------------  296.5/300.9 MB 6.4 MB/s eta 0:00:01\n",
      "   ---------------------------------------  296.8/300.9 MB 6.4 MB/s eta 0:00:01\n",
      "   ---------------------------------------  297.1/300.9 MB 6.4 MB/s eta 0:00:01\n",
      "   ---------------------------------------  297.5/300.9 MB 6.4 MB/s eta 0:00:01\n",
      "   ---------------------------------------  297.8/300.9 MB 6.5 MB/s eta 0:00:01\n",
      "   ---------------------------------------  298.2/300.9 MB 6.5 MB/s eta 0:00:01\n",
      "   ---------------------------------------  298.5/300.9 MB 6.6 MB/s eta 0:00:01\n",
      "   ---------------------------------------  298.9/300.9 MB 6.6 MB/s eta 0:00:01\n",
      "   ---------------------------------------  299.3/300.9 MB 6.7 MB/s eta 0:00:01\n",
      "   ---------------------------------------  299.6/300.9 MB 6.7 MB/s eta 0:00:01\n",
      "   ---------------------------------------  300.0/300.9 MB 6.8 MB/s eta 0:00:01\n",
      "   ---------------------------------------  300.2/300.9 MB 6.8 MB/s eta 0:00:01\n",
      "   ---------------------------------------  300.6/300.9 MB 6.9 MB/s eta 0:00:01\n",
      "   ---------------------------------------  300.9/300.9 MB 6.9 MB/s eta 0:00:01\n",
      "   ---------------------------------------  300.9/300.9 MB 6.8 MB/s eta 0:00:01\n",
      "   ---------------------------------------  300.9/300.9 MB 6.8 MB/s eta 0:00:01\n",
      "   ---------------------------------------  300.9/300.9 MB 6.8 MB/s eta 0:00:01\n",
      "   ---------------------------------------  300.9/300.9 MB 6.8 MB/s eta 0:00:01\n",
      "   ---------------------------------------  300.9/300.9 MB 6.8 MB/s eta 0:00:01\n",
      "   ---------------------------------------  300.9/300.9 MB 6.8 MB/s eta 0:00:01\n",
      "   ---------------------------------------  300.9/300.9 MB 6.8 MB/s eta 0:00:01\n",
      "   ---------------------------------------  300.9/300.9 MB 6.8 MB/s eta 0:00:01\n",
      "   ---------------------------------------  300.9/300.9 MB 6.8 MB/s eta 0:00:01\n",
      "   ---------------------------------------  300.9/300.9 MB 6.8 MB/s eta 0:00:01\n",
      "   ---------------------------------------  300.9/300.9 MB 6.8 MB/s eta 0:00:01\n",
      "   ---------------------------------------  300.9/300.9 MB 6.8 MB/s eta 0:00:01\n",
      "   ---------------------------------------  300.9/300.9 MB 6.8 MB/s eta 0:00:01\n",
      "   ---------------------------------------  300.9/300.9 MB 6.8 MB/s eta 0:00:01\n",
      "   ---------------------------------------  300.9/300.9 MB 6.8 MB/s eta 0:00:01\n",
      "   ---------------------------------------  300.9/300.9 MB 6.8 MB/s eta 0:00:01\n",
      "   ---------------------------------------- 300.9/300.9 MB 2.5 MB/s eta 0:00:00\n",
      "Downloading absl_py-2.1.0-py3-none-any.whl (133 kB)\n",
      "   ---------------------------------------- 0.0/133.7 kB ? eta -:--:--\n",
      "   ---------------------------------------- 133.7/133.7 kB 7.7 MB/s eta 0:00:00\n",
      "Downloading flatbuffers-23.5.26-py2.py3-none-any.whl (26 kB)\n",
      "Downloading gast-0.5.4-py3-none-any.whl (19 kB)\n",
      "Downloading grpcio-1.62.0-cp311-cp311-win_amd64.whl (3.8 MB)\n",
      "   ---------------------------------------- 0.0/3.8 MB ? eta -:--:--\n",
      "   --- ------------------------------------ 0.3/3.8 MB 9.2 MB/s eta 0:00:01\n",
      "   ------- -------------------------------- 0.7/3.8 MB 8.4 MB/s eta 0:00:01\n",
      "   ---------- ----------------------------- 1.0/3.8 MB 7.7 MB/s eta 0:00:01\n",
      "   -------------- ------------------------- 1.3/3.8 MB 7.7 MB/s eta 0:00:01\n",
      "   ----------------- ---------------------- 1.7/3.8 MB 7.7 MB/s eta 0:00:01\n",
      "   --------------------- ------------------ 2.1/3.8 MB 7.8 MB/s eta 0:00:01\n",
      "   ------------------------- -------------- 2.4/3.8 MB 7.8 MB/s eta 0:00:01\n",
      "   ----------------------------- ---------- 2.8/3.8 MB 7.7 MB/s eta 0:00:01\n",
      "   --------------------------------- ------ 3.2/3.8 MB 7.8 MB/s eta 0:00:01\n",
      "   ------------------------------------- -- 3.5/3.8 MB 7.7 MB/s eta 0:00:01\n",
      "   ---------------------------------------  3.8/3.8 MB 7.8 MB/s eta 0:00:01\n",
      "   ---------------------------------------- 3.8/3.8 MB 7.3 MB/s eta 0:00:00\n",
      "Downloading keras-2.15.0-py3-none-any.whl (1.7 MB)\n",
      "   ---------------------------------------- 0.0/1.7 MB ? eta -:--:--\n",
      "   --------- ------------------------------ 0.4/1.7 MB 12.5 MB/s eta 0:00:01\n",
      "   ----------------- ---------------------- 0.7/1.7 MB 11.5 MB/s eta 0:00:01\n",
      "   --------------------------- ------------ 1.2/1.7 MB 9.3 MB/s eta 0:00:01\n",
      "   ----------------------------------- ---- 1.5/1.7 MB 8.8 MB/s eta 0:00:01\n",
      "   ---------------------------------------- 1.7/1.7 MB 8.4 MB/s eta 0:00:00\n",
      "Downloading libclang-16.0.6-py2.py3-none-win_amd64.whl (24.4 MB)\n",
      "   ---------------------------------------- 0.0/24.4 MB ? eta -:--:--\n",
      "    --------------------------------------- 0.3/24.4 MB 7.0 MB/s eta 0:00:04\n",
      "   - -------------------------------------- 0.7/24.4 MB 8.9 MB/s eta 0:00:03\n",
      "   - -------------------------------------- 1.1/24.4 MB 7.9 MB/s eta 0:00:03\n",
      "   -- ------------------------------------- 1.4/24.4 MB 8.3 MB/s eta 0:00:03\n",
      "   --- ------------------------------------ 1.9/24.4 MB 7.8 MB/s eta 0:00:03\n",
      "   --- ------------------------------------ 2.3/24.4 MB 8.0 MB/s eta 0:00:03\n",
      "   ---- ----------------------------------- 2.7/24.4 MB 8.2 MB/s eta 0:00:03\n",
      "   ----- ---------------------------------- 3.1/24.4 MB 8.6 MB/s eta 0:00:03\n",
      "   ----- ---------------------------------- 3.5/24.4 MB 8.3 MB/s eta 0:00:03\n",
      "   ------ --------------------------------- 3.9/24.4 MB 8.5 MB/s eta 0:00:03\n",
      "   ------- -------------------------------- 4.3/24.4 MB 8.3 MB/s eta 0:00:03\n",
      "   ------- -------------------------------- 4.7/24.4 MB 8.3 MB/s eta 0:00:03\n",
      "   -------- ------------------------------- 5.1/24.4 MB 8.6 MB/s eta 0:00:03\n",
      "   --------- ------------------------------ 5.6/24.4 MB 8.7 MB/s eta 0:00:03\n",
      "   --------- ------------------------------ 5.9/24.4 MB 8.6 MB/s eta 0:00:03\n",
      "   ---------- ----------------------------- 6.3/24.4 MB 8.5 MB/s eta 0:00:03\n",
      "   ---------- ----------------------------- 6.6/24.4 MB 8.4 MB/s eta 0:00:03\n",
      "   ----------- ---------------------------- 6.9/24.4 MB 8.3 MB/s eta 0:00:03\n",
      "   ------------ --------------------------- 7.4/24.4 MB 8.4 MB/s eta 0:00:03\n",
      "   ------------ --------------------------- 7.8/24.4 MB 8.5 MB/s eta 0:00:02\n",
      "   ------------- -------------------------- 8.2/24.4 MB 8.4 MB/s eta 0:00:02\n",
      "   -------------- ------------------------- 8.7/24.4 MB 8.5 MB/s eta 0:00:02\n",
      "   -------------- ------------------------- 9.0/24.4 MB 8.5 MB/s eta 0:00:02\n",
      "   --------------- ------------------------ 9.5/24.4 MB 8.6 MB/s eta 0:00:02\n",
      "   ---------------- ----------------------- 9.9/24.4 MB 8.6 MB/s eta 0:00:02\n",
      "   ----------------- ---------------------- 10.4/24.4 MB 8.6 MB/s eta 0:00:02\n",
      "   ----------------- ---------------------- 10.9/24.4 MB 8.7 MB/s eta 0:00:02\n",
      "   ------------------ --------------------- 11.3/24.4 MB 8.8 MB/s eta 0:00:02\n",
      "   ------------------- -------------------- 11.8/24.4 MB 9.0 MB/s eta 0:00:02\n",
      "   -------------------- ------------------- 12.2/24.4 MB 9.0 MB/s eta 0:00:02\n",
      "   -------------------- ------------------- 12.5/24.4 MB 9.0 MB/s eta 0:00:02\n",
      "   --------------------- ------------------ 12.9/24.4 MB 8.8 MB/s eta 0:00:02\n",
      "   --------------------- ------------------ 13.2/24.4 MB 8.8 MB/s eta 0:00:02\n",
      "   ---------------------- ----------------- 13.5/24.4 MB 8.6 MB/s eta 0:00:02\n",
      "   ----------------------- ---------------- 14.1/24.4 MB 8.7 MB/s eta 0:00:02\n",
      "   ----------------------- ---------------- 14.4/24.4 MB 8.7 MB/s eta 0:00:02\n",
      "   ------------------------ --------------- 14.7/24.4 MB 8.6 MB/s eta 0:00:02\n",
      "   ------------------------ --------------- 15.0/24.4 MB 8.5 MB/s eta 0:00:02\n",
      "   ------------------------- -------------- 15.3/24.4 MB 8.4 MB/s eta 0:00:02\n",
      "   ------------------------- -------------- 15.7/24.4 MB 8.4 MB/s eta 0:00:02\n",
      "   -------------------------- ------------- 16.0/24.4 MB 8.3 MB/s eta 0:00:02\n",
      "   -------------------------- ------------- 16.3/24.4 MB 8.2 MB/s eta 0:00:01\n",
      "   --------------------------- ------------ 16.6/24.4 MB 8.3 MB/s eta 0:00:01\n",
      "   --------------------------- ------------ 16.9/24.4 MB 8.3 MB/s eta 0:00:01\n",
      "   ---------------------------- ----------- 17.1/24.4 MB 8.1 MB/s eta 0:00:01\n",
      "   ---------------------------- ----------- 17.5/24.4 MB 8.1 MB/s eta 0:00:01\n",
      "   ----------------------------- ---------- 17.8/24.4 MB 8.0 MB/s eta 0:00:01\n",
      "   ----------------------------- ---------- 18.1/24.4 MB 7.9 MB/s eta 0:00:01\n",
      "   ------------------------------ --------- 18.5/24.4 MB 7.9 MB/s eta 0:00:01\n",
      "   ------------------------------ --------- 18.9/24.4 MB 7.8 MB/s eta 0:00:01\n",
      "   ------------------------------- -------- 19.2/24.4 MB 7.7 MB/s eta 0:00:01\n",
      "   ------------------------------- -------- 19.5/24.4 MB 7.7 MB/s eta 0:00:01\n",
      "   -------------------------------- ------- 19.9/24.4 MB 7.7 MB/s eta 0:00:01\n",
      "   --------------------------------- ------ 20.3/24.4 MB 7.6 MB/s eta 0:00:01\n",
      "   --------------------------------- ------ 20.6/24.4 MB 7.5 MB/s eta 0:00:01\n",
      "   --------------------------------- ------ 20.8/24.4 MB 7.4 MB/s eta 0:00:01\n",
      "   ---------------------------------- ----- 21.1/24.4 MB 7.4 MB/s eta 0:00:01\n",
      "   ----------------------------------- ---- 21.4/24.4 MB 7.2 MB/s eta 0:00:01\n",
      "   ----------------------------------- ---- 21.6/24.4 MB 7.1 MB/s eta 0:00:01\n",
      "   ------------------------------------ --- 22.0/24.4 MB 7.0 MB/s eta 0:00:01\n",
      "   ------------------------------------ --- 22.4/24.4 MB 7.0 MB/s eta 0:00:01\n",
      "   ------------------------------------- -- 22.8/24.4 MB 7.1 MB/s eta 0:00:01\n",
      "   ------------------------------------- -- 23.2/24.4 MB 7.0 MB/s eta 0:00:01\n",
      "   -------------------------------------- - 23.5/24.4 MB 7.3 MB/s eta 0:00:01\n",
      "   ---------------------------------------  23.9/24.4 MB 7.1 MB/s eta 0:00:01\n",
      "   ---------------------------------------  24.2/24.4 MB 7.0 MB/s eta 0:00:01\n",
      "   ---------------------------------------  24.4/24.4 MB 7.0 MB/s eta 0:00:01\n",
      "   ---------------------------------------  24.4/24.4 MB 7.0 MB/s eta 0:00:01\n",
      "   ---------------------------------------  24.4/24.4 MB 7.0 MB/s eta 0:00:01\n",
      "   ---------------------------------------- 24.4/24.4 MB 6.2 MB/s eta 0:00:00\n",
      "Downloading ml_dtypes-0.2.0-cp311-cp311-win_amd64.whl (938 kB)\n",
      "   ---------------------------------------- 0.0/938.7 kB ? eta -:--:--\n",
      "   ------------------ --------------------- 430.1/938.7 kB 8.9 MB/s eta 0:00:01\n",
      "   ----------------------------------- ---- 829.4/938.7 kB 8.7 MB/s eta 0:00:01\n",
      "   ---------------------------------------- 938.7/938.7 kB 8.4 MB/s eta 0:00:00\n",
      "Downloading protobuf-4.25.3-cp310-abi3-win_amd64.whl (413 kB)\n",
      "   ---------------------------------------- 0.0/413.4 kB ? eta -:--:--\n",
      "   ---------------------------------------  409.6/413.4 kB 8.5 MB/s eta 0:00:01\n",
      "   ---------------------------------------- 413.4/413.4 kB 8.6 MB/s eta 0:00:00\n",
      "Downloading tensorboard-2.15.2-py3-none-any.whl (5.5 MB)\n",
      "   ---------------------------------------- 0.0/5.5 MB ? eta -:--:--\n",
      "   -- ------------------------------------- 0.4/5.5 MB 8.5 MB/s eta 0:00:01\n",
      "   ----- ---------------------------------- 0.8/5.5 MB 8.4 MB/s eta 0:00:01\n",
      "   -------- ------------------------------- 1.2/5.5 MB 8.4 MB/s eta 0:00:01\n",
      "   ---------- ----------------------------- 1.5/5.5 MB 8.6 MB/s eta 0:00:01\n",
      "   ------------- -------------------------- 1.9/5.5 MB 8.0 MB/s eta 0:00:01\n",
      "   ---------------- ----------------------- 2.3/5.5 MB 8.4 MB/s eta 0:00:01\n",
      "   ------------------ --------------------- 2.6/5.5 MB 8.2 MB/s eta 0:00:01\n",
      "   --------------------- ------------------ 2.9/5.5 MB 8.1 MB/s eta 0:00:01\n",
      "   ------------------------ --------------- 3.3/5.5 MB 7.9 MB/s eta 0:00:01\n",
      "   ------------------------- -------------- 3.5/5.5 MB 8.0 MB/s eta 0:00:01\n",
      "   ---------------------------- ----------- 3.9/5.5 MB 7.6 MB/s eta 0:00:01\n",
      "   ------------------------------- -------- 4.3/5.5 MB 7.7 MB/s eta 0:00:01\n",
      "   --------------------------------- ------ 4.7/5.5 MB 7.9 MB/s eta 0:00:01\n",
      "   ------------------------------------ --- 5.1/5.5 MB 7.9 MB/s eta 0:00:01\n",
      "   ---------------------------------------  5.5/5.5 MB 7.7 MB/s eta 0:00:01\n",
      "   ---------------------------------------- 5.5/5.5 MB 7.5 MB/s eta 0:00:00\n",
      "Downloading tensorflow_estimator-2.15.0-py2.py3-none-any.whl (441 kB)\n",
      "   ---------------------------------------- 0.0/442.0 kB ? eta -:--:--\n",
      "   ------------------------ -------------- 276.5/442.0 kB 17.7 MB/s eta 0:00:01\n",
      "   ------------------------------------ --- 399.4/442.0 kB 4.2 MB/s eta 0:00:01\n",
      "   ---------------------------------------- 442.0/442.0 kB 4.6 MB/s eta 0:00:00\n",
      "Downloading tensorflow_io_gcs_filesystem-0.31.0-cp311-cp311-win_amd64.whl (1.5 MB)\n",
      "   ---------------------------------------- 0.0/1.5 MB ? eta -:--:--\n",
      "   ---------- ----------------------------- 0.4/1.5 MB 12.2 MB/s eta 0:00:01\n",
      "   -------------------- ------------------- 0.8/1.5 MB 9.8 MB/s eta 0:00:01\n",
      "   ---------------------------- ----------- 1.1/1.5 MB 8.4 MB/s eta 0:00:01\n",
      "   ---------------------------------- ----- 1.3/1.5 MB 7.5 MB/s eta 0:00:01\n",
      "   ---------------------------------------  1.5/1.5 MB 6.7 MB/s eta 0:00:01\n",
      "   ---------------------------------------- 1.5/1.5 MB 5.9 MB/s eta 0:00:00\n",
      "Downloading termcolor-2.4.0-py3-none-any.whl (7.7 kB)\n",
      "Downloading google_auth-2.28.1-py2.py3-none-any.whl (186 kB)\n",
      "   ---------------------------------------- 0.0/186.9 kB ? eta -:--:--\n",
      "   ---------------------------------------- 186.9/186.9 kB 5.5 MB/s eta 0:00:00\n",
      "Downloading google_auth_oauthlib-1.2.0-py2.py3-none-any.whl (24 kB)\n",
      "Downloading tensorboard_data_server-0.7.2-py3-none-any.whl (2.4 kB)\n",
      "Downloading cachetools-5.3.3-py3-none-any.whl (9.3 kB)\n",
      "Downloading requests_oauthlib-1.3.1-py2.py3-none-any.whl (23 kB)\n",
      "Downloading rsa-4.9-py3-none-any.whl (34 kB)\n",
      "Downloading oauthlib-3.2.2-py3-none-any.whl (151 kB)\n",
      "   ---------------------------------------- 0.0/151.7 kB ? eta -:--:--\n",
      "   ---------------------------------------- 151.7/151.7 kB 8.8 MB/s eta 0:00:00\n",
      "Installing collected packages: libclang, flatbuffers, termcolor, tensorflow-io-gcs-filesystem, tensorflow-estimator, tensorboard-data-server, rsa, protobuf, opt-einsum, oauthlib, ml-dtypes, keras, grpcio, google-pasta, gast, cachetools, astunparse, absl-py, requests-oauthlib, google-auth, google-auth-oauthlib, tensorboard, tensorflow-intel, tensorflow\n",
      "Successfully installed absl-py-2.1.0 astunparse-1.6.3 cachetools-5.3.3 flatbuffers-23.5.26 gast-0.5.4 google-auth-2.28.1 google-auth-oauthlib-1.2.0 google-pasta-0.2.0 grpcio-1.62.0 keras-2.15.0 libclang-16.0.6 ml-dtypes-0.2.0 oauthlib-3.2.2 opt-einsum-3.3.0 protobuf-4.25.3 requests-oauthlib-1.3.1 rsa-4.9 tensorboard-2.15.2 tensorboard-data-server-0.7.2 tensorflow-2.15.0 tensorflow-estimator-2.15.0 tensorflow-intel-2.15.0 tensorflow-io-gcs-filesystem-0.31.0 termcolor-2.4.0\n",
      "Note: you may need to restart the kernel to use updated packages.\n"
     ]
    }
   ],
   "source": [
    "pip install tensorflow"
   ]
  },
  {
   "cell_type": "code",
   "execution_count": 4,
   "id": "b3f97ec7",
   "metadata": {},
   "outputs": [],
   "source": [
    "import tensorflow as tf\n",
    "from tensorflow import keras\n",
    "import matplotlib.pyplot as plt\n",
    "%matplotlib inline\n",
    "import numpy as np"
   ]
  },
  {
   "cell_type": "code",
   "execution_count": 5,
   "id": "cae157a8",
   "metadata": {},
   "outputs": [
    {
     "name": "stdout",
     "output_type": "stream",
     "text": [
      "Downloading data from https://storage.googleapis.com/tensorflow/tf-keras-datasets/mnist.npz\n",
      "11490434/11490434 [==============================] - 3s 0us/step\n"
     ]
    }
   ],
   "source": [
    "(x_train , y_train),(x_test,y_test)=keras.datasets.mnist.load_data()"
   ]
  },
  {
   "cell_type": "code",
   "execution_count": 6,
   "id": "c33a1bea",
   "metadata": {},
   "outputs": [
    {
     "data": {
      "text/plain": [
       "60000"
      ]
     },
     "execution_count": 6,
     "metadata": {},
     "output_type": "execute_result"
    }
   ],
   "source": [
    "len(x_train)"
   ]
  },
  {
   "cell_type": "code",
   "execution_count": 8,
   "id": "d2ce5af4",
   "metadata": {},
   "outputs": [
    {
     "data": {
      "text/plain": [
       "10000"
      ]
     },
     "execution_count": 8,
     "metadata": {},
     "output_type": "execute_result"
    }
   ],
   "source": [
    "len(x_test)"
   ]
  },
  {
   "cell_type": "code",
   "execution_count": 9,
   "id": "7d03119e",
   "metadata": {},
   "outputs": [
    {
     "data": {
      "text/plain": [
       "(28, 28)"
      ]
     },
     "execution_count": 9,
     "metadata": {},
     "output_type": "execute_result"
    }
   ],
   "source": [
    "x_train[0].shape"
   ]
  },
  {
   "cell_type": "code",
   "execution_count": 11,
   "id": "5b7cf77a",
   "metadata": {},
   "outputs": [
    {
     "data": {
      "text/plain": [
       "array([[  0,   0,   0,   0,   0,   0,   0,   0,   0,   0,   0,   0,   0,\n",
       "          0,   0,   0,   0,   0,   0,   0,   0,   0,   0,   0,   0,   0,\n",
       "          0,   0],\n",
       "       [  0,   0,   0,   0,   0,   0,   0,   0,   0,   0,   0,   0,   0,\n",
       "          0,   0,   0,   0,   0,   0,   0,   0,   0,   0,   0,   0,   0,\n",
       "          0,   0],\n",
       "       [  0,   0,   0,   0,   0,   0,   0,   0,   0,   0,   0,   0,   0,\n",
       "          0,   0,   0,   0,   0,   0,   0,   0,   0,   0,   0,   0,   0,\n",
       "          0,   0],\n",
       "       [  0,   0,   0,   0,   0,   0,   0,   0,   0,   0,   0,   0,   0,\n",
       "          0,   0,   0,   0,   0,   0,   0,   0,   0,   0,   0,   0,   0,\n",
       "          0,   0],\n",
       "       [  0,   0,   0,   0,   0,   0,   0,   0,   0,   0,   0,   0,   0,\n",
       "          0,   0,   0,   0,   0,   0,   0,   0,   0,   0,   0,   0,   0,\n",
       "          0,   0],\n",
       "       [  0,   0,   0,   0,   0,   0,   0,   0,   0,   0,   0,   0,   3,\n",
       "         18,  18,  18, 126, 136, 175,  26, 166, 255, 247, 127,   0,   0,\n",
       "          0,   0],\n",
       "       [  0,   0,   0,   0,   0,   0,   0,   0,  30,  36,  94, 154, 170,\n",
       "        253, 253, 253, 253, 253, 225, 172, 253, 242, 195,  64,   0,   0,\n",
       "          0,   0],\n",
       "       [  0,   0,   0,   0,   0,   0,   0,  49, 238, 253, 253, 253, 253,\n",
       "        253, 253, 253, 253, 251,  93,  82,  82,  56,  39,   0,   0,   0,\n",
       "          0,   0],\n",
       "       [  0,   0,   0,   0,   0,   0,   0,  18, 219, 253, 253, 253, 253,\n",
       "        253, 198, 182, 247, 241,   0,   0,   0,   0,   0,   0,   0,   0,\n",
       "          0,   0],\n",
       "       [  0,   0,   0,   0,   0,   0,   0,   0,  80, 156, 107, 253, 253,\n",
       "        205,  11,   0,  43, 154,   0,   0,   0,   0,   0,   0,   0,   0,\n",
       "          0,   0],\n",
       "       [  0,   0,   0,   0,   0,   0,   0,   0,   0,  14,   1, 154, 253,\n",
       "         90,   0,   0,   0,   0,   0,   0,   0,   0,   0,   0,   0,   0,\n",
       "          0,   0],\n",
       "       [  0,   0,   0,   0,   0,   0,   0,   0,   0,   0,   0, 139, 253,\n",
       "        190,   2,   0,   0,   0,   0,   0,   0,   0,   0,   0,   0,   0,\n",
       "          0,   0],\n",
       "       [  0,   0,   0,   0,   0,   0,   0,   0,   0,   0,   0,  11, 190,\n",
       "        253,  70,   0,   0,   0,   0,   0,   0,   0,   0,   0,   0,   0,\n",
       "          0,   0],\n",
       "       [  0,   0,   0,   0,   0,   0,   0,   0,   0,   0,   0,   0,  35,\n",
       "        241, 225, 160, 108,   1,   0,   0,   0,   0,   0,   0,   0,   0,\n",
       "          0,   0],\n",
       "       [  0,   0,   0,   0,   0,   0,   0,   0,   0,   0,   0,   0,   0,\n",
       "         81, 240, 253, 253, 119,  25,   0,   0,   0,   0,   0,   0,   0,\n",
       "          0,   0],\n",
       "       [  0,   0,   0,   0,   0,   0,   0,   0,   0,   0,   0,   0,   0,\n",
       "          0,  45, 186, 253, 253, 150,  27,   0,   0,   0,   0,   0,   0,\n",
       "          0,   0],\n",
       "       [  0,   0,   0,   0,   0,   0,   0,   0,   0,   0,   0,   0,   0,\n",
       "          0,   0,  16,  93, 252, 253, 187,   0,   0,   0,   0,   0,   0,\n",
       "          0,   0],\n",
       "       [  0,   0,   0,   0,   0,   0,   0,   0,   0,   0,   0,   0,   0,\n",
       "          0,   0,   0,   0, 249, 253, 249,  64,   0,   0,   0,   0,   0,\n",
       "          0,   0],\n",
       "       [  0,   0,   0,   0,   0,   0,   0,   0,   0,   0,   0,   0,   0,\n",
       "          0,  46, 130, 183, 253, 253, 207,   2,   0,   0,   0,   0,   0,\n",
       "          0,   0],\n",
       "       [  0,   0,   0,   0,   0,   0,   0,   0,   0,   0,   0,   0,  39,\n",
       "        148, 229, 253, 253, 253, 250, 182,   0,   0,   0,   0,   0,   0,\n",
       "          0,   0],\n",
       "       [  0,   0,   0,   0,   0,   0,   0,   0,   0,   0,  24, 114, 221,\n",
       "        253, 253, 253, 253, 201,  78,   0,   0,   0,   0,   0,   0,   0,\n",
       "          0,   0],\n",
       "       [  0,   0,   0,   0,   0,   0,   0,   0,  23,  66, 213, 253, 253,\n",
       "        253, 253, 198,  81,   2,   0,   0,   0,   0,   0,   0,   0,   0,\n",
       "          0,   0],\n",
       "       [  0,   0,   0,   0,   0,   0,  18, 171, 219, 253, 253, 253, 253,\n",
       "        195,  80,   9,   0,   0,   0,   0,   0,   0,   0,   0,   0,   0,\n",
       "          0,   0],\n",
       "       [  0,   0,   0,   0,  55, 172, 226, 253, 253, 253, 253, 244, 133,\n",
       "         11,   0,   0,   0,   0,   0,   0,   0,   0,   0,   0,   0,   0,\n",
       "          0,   0],\n",
       "       [  0,   0,   0,   0, 136, 253, 253, 253, 212, 135, 132,  16,   0,\n",
       "          0,   0,   0,   0,   0,   0,   0,   0,   0,   0,   0,   0,   0,\n",
       "          0,   0],\n",
       "       [  0,   0,   0,   0,   0,   0,   0,   0,   0,   0,   0,   0,   0,\n",
       "          0,   0,   0,   0,   0,   0,   0,   0,   0,   0,   0,   0,   0,\n",
       "          0,   0],\n",
       "       [  0,   0,   0,   0,   0,   0,   0,   0,   0,   0,   0,   0,   0,\n",
       "          0,   0,   0,   0,   0,   0,   0,   0,   0,   0,   0,   0,   0,\n",
       "          0,   0],\n",
       "       [  0,   0,   0,   0,   0,   0,   0,   0,   0,   0,   0,   0,   0,\n",
       "          0,   0,   0,   0,   0,   0,   0,   0,   0,   0,   0,   0,   0,\n",
       "          0,   0]], dtype=uint8)"
      ]
     },
     "execution_count": 11,
     "metadata": {},
     "output_type": "execute_result"
    }
   ],
   "source": [
    "x_train[0]"
   ]
  },
  {
   "cell_type": "code",
   "execution_count": 12,
   "id": "223d7033",
   "metadata": {},
   "outputs": [
    {
     "data": {
      "text/plain": [
       "<matplotlib.image.AxesImage at 0x1a598ebc910>"
      ]
     },
     "execution_count": 12,
     "metadata": {},
     "output_type": "execute_result"
    },
    {
     "data": {
      "image/png": "[encoded data removed]",
      "text/plain": [
       "<Figure size 480x480 with 1 Axes>"
      ]
     },
     "metadata": {},
     "output_type": "display_data"
    }
   ],
   "source": [
    "plt.matshow(x_train[0])"
   ]
  },
  {
   "cell_type": "code",
   "execution_count": 13,
   "id": "33fceeee",
   "metadata": {},
   "outputs": [
    {
     "data": {
      "text/plain": [
       "<matplotlib.image.AxesImage at 0x1a599dd5d50>"
      ]
     },
     "execution_count": 13,
     "metadata": {},
     "output_type": "execute_result"
    },
    {
     "data": {
      "image/png": "[encoded data removed]",
      "text/plain": [
       "<Figure size 480x480 with 1 Axes>"
      ]
     },
     "metadata": {},
     "output_type": "display_data"
    }
   ],
   "source": [
    "plt.matshow(x_train[4])"
   ]
  },
  {
   "cell_type": "code",
   "execution_count": 14,
   "id": "1352e08a",
   "metadata": {},
   "outputs": [
    {
     "data": {
      "text/plain": [
       "2"
      ]
     },
     "execution_count": 14,
     "metadata": {},
     "output_type": "execute_result"
    }
   ],
   "source": [
    "y_train[5]"
   ]
  },
  {
   "cell_type": "code",
   "execution_count": 16,
   "id": "e13c9462",
   "metadata": {},
   "outputs": [
    {
     "data": {
      "text/plain": [
       "array([5, 0, 4, 1, 9, 2], dtype=uint8)"
      ]
     },
     "execution_count": 16,
     "metadata": {},
     "output_type": "execute_result"
    }
   ],
   "source": [
    "y_train[0:6]"
   ]
  },
  {
   "cell_type": "code",
   "execution_count": 17,
   "id": "02f5e3d9",
   "metadata": {},
   "outputs": [
    {
     "data": {
      "text/plain": [
       "(60000, 28, 28)"
      ]
     },
     "execution_count": 17,
     "metadata": {},
     "output_type": "execute_result"
    }
   ],
   "source": [
    "x_train.shape"
   ]
  },
  {
   "cell_type": "code",
   "execution_count": 18,
   "id": "455aa6a7",
   "metadata": {},
   "outputs": [],
   "source": [
    "x_train_flatten=x_train.reshape(len(x_train),28*28)"
   ]
  },
  {
   "cell_type": "code",
   "execution_count": 19,
   "id": "d3de7309",
   "metadata": {},
   "outputs": [
    {
     "data": {
      "text/plain": [
       "(60000, 784)"
      ]
     },
     "execution_count": 19,
     "metadata": {},
     "output_type": "execute_result"
    }
   ],
   "source": [
    "x_train_flatten.shape"
   ]
  },
  {
   "cell_type": "code",
   "execution_count": 20,
   "id": "8093c356",
   "metadata": {},
   "outputs": [
    {
     "data": {
      "text/plain": [
       "(10000, 784)"
      ]
     },
     "execution_count": 20,
     "metadata": {},
     "output_type": "execute_result"
    }
   ],
   "source": [
    "x_test_flatten=x_test.reshape(len(x_test),28*28)\n",
    "x_test_flatten.shape\n"
   ]
  },
  {
   "cell_type": "markdown",
   "id": "c028ecf8",
   "metadata": {},
   "source": [
    "## Without scaling"
   ]
  },
  {
   "cell_type": "code",
   "execution_count": 25,
   "id": "c59cf549",
   "metadata": {},
   "outputs": [],
   "source": [
    "import warnings\n",
    "warnings.filterwarnings('ignore', category=DeprecationWarning)\n"
   ]
  },
  {
   "cell_type": "code",
   "execution_count": 28,
   "id": "9dc3a261",
   "metadata": {
    "scrolled": true
   },
   "outputs": [
    {
     "name": "stdout",
     "output_type": "stream",
     "text": [
      "Epoch 1/5\n",
      "1875/1875 [==============================] - 4s 2ms/step - loss: 9.7775 - accuracy: 0.8395\n",
      "Epoch 2/5\n",
      "1875/1875 [==============================] - 3s 2ms/step - loss: 6.1315 - accuracy: 0.8773\n",
      "Epoch 3/5\n",
      "1875/1875 [==============================] - 3s 2ms/step - loss: 5.7073 - accuracy: 0.8836\n",
      "Epoch 4/5\n",
      "1875/1875 [==============================] - 3s 2ms/step - loss: 5.5570 - accuracy: 0.8847\n",
      "Epoch 5/5\n",
      "1875/1875 [==============================] - 4s 2ms/step - loss: 5.4022 - accuracy: 0.8873\n"
     ]
    },
    {
     "data": {
      "text/plain": [
       "<keras.src.callbacks.History at 0x1a59e16db90>"
      ]
     },
     "execution_count": 28,
     "metadata": {},
     "output_type": "execute_result"
    }
   ],
   "source": [
    "from tensorflow.compat.v1 import keras\n",
    "from tensorflow.compat.v1.keras import layers\n",
    "from tensorflow.compat.v1.keras.layers import Dense\n",
    "\n",
    "\n",
    "model=keras.Sequential([\n",
    "    keras.layers.Dense(10,input_shape=(784,),activation=\"sigmoid\")\n",
    "])\n",
    "\n",
    "model.compile(\n",
    "     optimizer=\"adam\",\n",
    "    loss=\"sparse_categorical_crossentropy\",\n",
    "    metrics=['accuracy']\n",
    ")\n",
    "\n",
    "model.fit(x_train_flatten,y_train,epochs=5)"
   ]
  },
  {
   "cell_type": "markdown",
   "id": "fbf3389c",
   "metadata": {},
   "source": [
    "## With Scaling"
   ]
  },
  {
   "cell_type": "code",
   "execution_count": 29,
   "id": "df239eea",
   "metadata": {},
   "outputs": [],
   "source": [
    "x_train= x_train/255\n",
    "x_test=x_test/255"
   ]
  },
  {
   "cell_type": "code",
   "execution_count": 30,
   "id": "5c51ecb6",
   "metadata": {},
   "outputs": [],
   "source": [
    "x_train_flatten=x_train.reshape(len(x_train),28*28)\n",
    "x_test_flatten=x_test.reshape(len(x_test),28*28)"
   ]
  },
  {
   "cell_type": "code",
   "execution_count": 31,
   "id": "de5dee08",
   "metadata": {},
   "outputs": [
    {
     "name": "stdout",
     "output_type": "stream",
     "text": [
      "Epoch 1/5\n",
      "1875/1875 [==============================] - 4s 2ms/step - loss: 0.4657 - accuracy: 0.8779\n",
      "Epoch 2/5\n",
      "1875/1875 [==============================] - 3s 2ms/step - loss: 0.3035 - accuracy: 0.9149\n",
      "Epoch 3/5\n",
      "1875/1875 [==============================] - 3s 2ms/step - loss: 0.2833 - accuracy: 0.9206\n",
      "Epoch 4/5\n",
      "1875/1875 [==============================] - 3s 2ms/step - loss: 0.2734 - accuracy: 0.9236\n",
      "Epoch 5/5\n",
      "1875/1875 [==============================] - 3s 2ms/step - loss: 0.2665 - accuracy: 0.9250\n"
     ]
    },
    {
     "data": {
      "text/plain": [
       "<keras.src.callbacks.History at 0x1a59e12b750>"
      ]
     },
     "execution_count": 31,
     "metadata": {},
     "output_type": "execute_result"
    }
   ],
   "source": [
    "model=keras.Sequential([\n",
    "    keras.layers.Dense(10,input_shape=(784,),activation=\"sigmoid\")\n",
    "])\n",
    "\n",
    "model.compile(\n",
    "     optimizer=\"adam\",\n",
    "    loss=\"sparse_categorical_crossentropy\",\n",
    "    metrics=['accuracy']\n",
    ")\n",
    "\n",
    "model.fit(x_train_flatten,y_train,epochs=5)"
   ]
  },
  {
   "cell_type": "code",
   "execution_count": 32,
   "id": "5c676879",
   "metadata": {},
   "outputs": [
    {
     "name": "stdout",
     "output_type": "stream",
     "text": [
      "313/313 [==============================] - 1s 2ms/step - loss: 0.2671 - accuracy: 0.9258\n"
     ]
    },
    {
     "data": {
      "text/plain": [
       "[0.2670552730560303, 0.9258000254631042]"
      ]
     },
     "execution_count": 32,
     "metadata": {},
     "output_type": "execute_result"
    }
   ],
   "source": [
    "model.evaluate(x_test_flatten,y_test)"
   ]
  },
  {
   "cell_type": "code",
   "execution_count": 33,
   "id": "6d7b2aee",
   "metadata": {},
   "outputs": [
    {
     "data": {
      "text/plain": [
       "<matplotlib.image.AxesImage at 0x1a5a20b9990>"
      ]
     },
     "execution_count": 33,
     "metadata": {},
     "output_type": "execute_result"
    },
    {
     "data": {
      "image/png": "[encoded data removed]",
      "text/plain": [
       "<Figure size 480x480 with 1 Axes>"
      ]
     },
     "metadata": {},
     "output_type": "display_data"
    }
   ],
   "source": [
    "plt.matshow(x_test[0])"
   ]
  },
  {
   "cell_type": "code",
   "execution_count": 36,
   "id": "ed618d89",
   "metadata": {},
   "outputs": [
    {
     "name": "stdout",
     "output_type": "stream",
     "text": [
      "313/313 [==============================] - 0s 1ms/step\n"
     ]
    }
   ],
   "source": [
    "y_predicted=model.predict(x_test_flatten)"
   ]
  },
  {
   "cell_type": "code",
   "execution_count": 37,
   "id": "20f09b7b",
   "metadata": {},
   "outputs": [
    {
     "data": {
      "text/plain": [
       "array([2.3393430e-02, 4.7622271e-07, 8.1039704e-02, 9.6061283e-01,\n",
       "       2.6831529e-03, 1.7183180e-01, 1.8277530e-06, 9.9983287e-01,\n",
       "       1.3396563e-01, 7.1702749e-01], dtype=float32)"
      ]
     },
     "execution_count": 37,
     "metadata": {},
     "output_type": "execute_result"
    }
   ],
   "source": [
    "y_predicted[0]"
   ]
  },
  {
   "cell_type": "code",
   "execution_count": 38,
   "id": "80a7fbb6",
   "metadata": {},
   "outputs": [
    {
     "data": {
      "text/plain": [
       "7"
      ]
     },
     "execution_count": 38,
     "metadata": {},
     "output_type": "execute_result"
    }
   ],
   "source": [
    "np.argmax(y_predicted[0])"
   ]
  },
  {
   "cell_type": "code",
   "execution_count": 39,
   "id": "bbfd7e2e",
   "metadata": {},
   "outputs": [
    {
     "data": {
      "text/plain": [
       "1"
      ]
     },
     "execution_count": 39,
     "metadata": {},
     "output_type": "execute_result"
    }
   ],
   "source": [
    "np.argmax(y_predicted[2])"
   ]
  },
  {
   "cell_type": "code",
   "execution_count": 40,
   "id": "ab6381ca",
   "metadata": {},
   "outputs": [
    {
     "data": {
      "text/plain": [
       "<matplotlib.image.AxesImage at 0x1a5975bff90>"
      ]
     },
     "execution_count": 40,
     "metadata": {},
     "output_type": "execute_result"
    },
    {
     "data": {
      "image/png": "[encoded data removed]",
      "text/plain": [
       "<Figure size 480x480 with 1 Axes>"
      ]
     },
     "metadata": {},
     "output_type": "display_data"
    }
   ],
   "source": [
    "plt.matshow(x_test[2])"
   ]
  },
  {
   "cell_type": "code",
   "execution_count": 44,
   "id": "94ca25ec",
   "metadata": {},
   "outputs": [
    {
     "data": {
      "text/plain": [
       "9"
      ]
     },
     "execution_count": 44,
     "metadata": {},
     "output_type": "execute_result"
    }
   ],
   "source": [
    "np.argmax(y_predicted[7])"
   ]
  },
  {
   "cell_type": "code",
   "execution_count": 45,
   "id": "cd3a8383",
   "metadata": {},
   "outputs": [
    {
     "data": {
      "text/plain": [
       "<matplotlib.image.AxesImage at 0x1a5976113d0>"
      ]
     },
     "execution_count": 45,
     "metadata": {},
     "output_type": "execute_result"
    },
    {
     "data": {
      "image/png": "[encoded data removed]",
      "text/plain": [
       "<Figure size 480x480 with 1 Axes>"
      ]
     },
     "metadata": {},
     "output_type": "display_data"
    }
   ],
   "source": [
    "plt.matshow(x_test[7])"
   ]
  },
  {
   "cell_type": "code",
   "execution_count": 46,
   "id": "98a9cf00",
   "metadata": {},
   "outputs": [
    {
     "data": {
      "text/plain": [
       "array([7, 2, 1, 0, 4], dtype=uint8)"
      ]
     },
     "execution_count": 46,
     "metadata": {},
     "output_type": "execute_result"
    }
   ],
   "source": [
    "y_test[:5]"
   ]
  },
  {
   "cell_type": "code",
   "execution_count": 47,
   "id": "e8b1fe1c",
   "metadata": {},
   "outputs": [
    {
     "data": {
      "text/plain": [
       "[7, 2, 1, 0, 4]"
      ]
     },
     "execution_count": 47,
     "metadata": {},
     "output_type": "execute_result"
    }
   ],
   "source": [
    "y_predicted_labels= [np.argmax(i) for i in y_predicted]\n",
    "y_predicted_labels[0:5]"
   ]
  },
  {
   "cell_type": "code",
   "execution_count": 48,
   "id": "ec122a42",
   "metadata": {},
   "outputs": [
    {
     "data": {
      "text/plain": [
       "<tf.Tensor: shape=(10, 10), dtype=int32, numpy=\n",
       "array([[ 960,    0,    2,    2,    0,    5,    7,    2,    2,    0],\n",
       "       [   0, 1110,    4,    1,    0,    1,    4,    2,   13,    0],\n",
       "       [   3,    9,  933,    8,    6,    7,   12,   10,   40,    4],\n",
       "       [   3,    0,   27,  888,    0,   46,    2,   12,   26,    6],\n",
       "       [   1,    1,    7,    0,  911,    0,    9,    4,   13,   36],\n",
       "       [   7,    2,    3,   18,    8,  800,   13,    4,   30,    7],\n",
       "       [   9,    3,    8,    0,    8,   17,  907,    2,    4,    0],\n",
       "       [   1,    5,   24,    2,    5,    0,    0,  953,    6,   32],\n",
       "       [   4,    6,    6,   14,    9,   32,    9,   11,  878,    5],\n",
       "       [   9,    7,    2,    8,   23,    7,    0,   24,   11,  918]])>"
      ]
     },
     "execution_count": 48,
     "metadata": {},
     "output_type": "execute_result"
    }
   ],
   "source": [
    "cm=tf.math.confusion_matrix(labels=y_test,predictions=y_predicted_labels)\n",
    "cm"
   ]
  },
  {
   "cell_type": "code",
   "execution_count": 49,
   "id": "1f2f2370",
   "metadata": {},
   "outputs": [
    {
     "data": {
      "text/plain": [
       "Text(95.72222222222221, 0.5, 'Truth')"
      ]
     },
     "execution_count": 49,
     "metadata": {},
     "output_type": "execute_result"
    },
    {
     "data": {
      "image/png": "[encoded data removed]",
      "text/plain": [
       "<Figure size 1000x700 with 2 Axes>"
      ]
     },
     "metadata": {},
     "output_type": "display_data"
    }
   ],
   "source": [
    "import seaborn as sn\n",
    "plt.figure(figsize=(10,7))\n",
    "sn.heatmap(cm,annot=True,fmt='d')\n",
    "plt.xlabel(\"predicted\")\n",
    "plt.ylabel(\"Truth\")"
   ]
  },
  {
   "cell_type": "markdown",
   "id": "8e03534b",
   "metadata": {},
   "source": [
    "## multiple hiden layers"
   ]
  },
  {
   "cell_type": "code",
   "execution_count": 51,
   "id": "7bdf47b8",
   "metadata": {},
   "outputs": [
    {
     "name": "stdout",
     "output_type": "stream",
     "text": [
      "Epoch 1/5\n",
      "1875/1875 [==============================] - 6s 3ms/step - loss: 0.2786 - accuracy: 0.9213\n",
      "Epoch 2/5\n",
      "1875/1875 [==============================] - 5s 3ms/step - loss: 0.1296 - accuracy: 0.9618\n",
      "Epoch 3/5\n",
      "1875/1875 [==============================] - 6s 3ms/step - loss: 0.0887 - accuracy: 0.9730\n",
      "Epoch 4/5\n",
      "1875/1875 [==============================] - 6s 3ms/step - loss: 0.0677 - accuracy: 0.9795\n",
      "Epoch 5/5\n",
      "1875/1875 [==============================] - 6s 3ms/step - loss: 0.0537 - accuracy: 0.9836\n"
     ]
    },
    {
     "data": {
      "text/plain": [
       "<keras.src.callbacks.History at 0x1a59bc6a310>"
      ]
     },
     "execution_count": 51,
     "metadata": {},
     "output_type": "execute_result"
    }
   ],
   "source": [
    "model=keras.Sequential([\n",
    "    keras.layers.Dense(100,input_shape=(784,),activation=\"relu\"),\n",
    "    keras.layers.Dense(10,activation=\"sigmoid\")\n",
    "\n",
    "])\n",
    "\n",
    "model.compile(\n",
    "     optimizer=\"adam\",\n",
    "    loss=\"sparse_categorical_crossentropy\",\n",
    "    metrics=['accuracy']\n",
    ")\n",
    "\n",
    "model.fit(x_train_flatten,y_train,epochs=5)"
   ]
  },
  {
   "cell_type": "code",
   "execution_count": 52,
   "id": "60b8374b",
   "metadata": {},
   "outputs": [
    {
     "name": "stdout",
     "output_type": "stream",
     "text": [
      "313/313 [==============================] - 1s 2ms/step - loss: 0.0814 - accuracy: 0.9749\n"
     ]
    },
    {
     "data": {
      "text/plain": [
       "[0.08142796903848648, 0.9749000072479248]"
      ]
     },
     "execution_count": 52,
     "metadata": {},
     "output_type": "execute_result"
    }
   ],
   "source": [
    "model.evaluate(x_test_flatten,y_test)"
   ]
  },
  {
   "cell_type": "code",
   "execution_count": 55,
   "id": "0999fdc5",
   "metadata": {},
   "outputs": [
    {
     "name": "stdout",
     "output_type": "stream",
     "text": [
      "313/313 [==============================] - 1s 2ms/step\n"
     ]
    },
    {
     "data": {
      "text/plain": [
       "Text(95.72222222222221, 0.5, 'Truth')"
      ]
     },
     "execution_count": 55,
     "metadata": {},
     "output_type": "execute_result"
    },
    {
     "data": {
      "image/png": "[encoded data removed]",
      "text/plain": [
       "<Figure size 1000x700 with 2 Axes>"
      ]
     },
     "metadata": {},
     "output_type": "display_data"
    }
   ],
   "source": [
    "y_predicted=model.predict(x_test_flatten)\n",
    "y_predicted_labels= [np.argmax(i) for i in y_predicted]\n",
    "\n",
    "\n",
    "cm=tf.math.confusion_matrix(labels=y_test,predictions=y_predicted_labels)\n",
    "\n",
    "plt.figure(figsize=(10,7))\n",
    "sn.heatmap(cm,annot=True,fmt='d')\n",
    "plt.xlabel(\"predicted\")\n",
    "plt.ylabel(\"Truth\")"
   ]
  },
  {
   "cell_type": "markdown",
   "id": "66100506",
   "metadata": {},
   "source": [
    "### Without using flatten layer  to model.fit so we dont reshape on input dataset"
   ]
  },
  {
   "cell_type": "code",
   "execution_count": null,
   "id": "768930c2",
   "metadata": {},
   "outputs": [],
   "source": []
  },
  {
   "cell_type": "code",
   "execution_count": 63,
   "id": "f67bfacb",
   "metadata": {},
   "outputs": [
    {
     "name": "stdout",
     "output_type": "stream",
     "text": [
      "Epoch 1/5\n",
      "1875/1875 [==============================] - 6s 3ms/step - loss: 0.2767 - accuracy: 0.9202\n",
      "Epoch 2/5\n",
      "1875/1875 [==============================] - 5s 3ms/step - loss: 0.1292 - accuracy: 0.9619\n",
      "Epoch 3/5\n",
      "1875/1875 [==============================] - 6s 3ms/step - loss: 0.0900 - accuracy: 0.9727\n",
      "Epoch 4/5\n",
      "1875/1875 [==============================] - 7s 4ms/step - loss: 0.0676 - accuracy: 0.9795\n",
      "Epoch 5/5\n",
      "1875/1875 [==============================] - 6s 3ms/step - loss: 0.0532 - accuracy: 0.9832\n"
     ]
    },
    {
     "data": {
      "text/plain": [
       "<keras.src.callbacks.History at 0x1a5cbef7610>"
      ]
     },
     "execution_count": 63,
     "metadata": {},
     "output_type": "execute_result"
    }
   ],
   "source": [
    "model=keras.Sequential([\n",
    "    keras.layers.Flatten(input_shape=(28,28)),\n",
    "    keras.layers.Dense(100,activation=\"relu\"),\n",
    "    keras.layers.Dense(10,activation=\"sigmoid\")\n",
    "\n",
    "])\n",
    "\n",
    "model.compile(\n",
    "     optimizer=\"adam\",\n",
    "    loss=\"sparse_categorical_crossentropy\",\n",
    "    metrics=['accuracy']\n",
    ")\n",
    "\n",
    "model.fit(x_train,y_train,epochs=5)"
   ]
  },
  {
   "cell_type": "code",
   "execution_count": null,
   "id": "1b97b99c",
   "metadata": {
    "scrolled": true
   },
   "outputs": [],
   "source": []
  },
  {
   "cell_type": "code",
   "execution_count": 65,
   "id": "9190b1ba",
   "metadata": {},
   "outputs": [],
   "source": [
    "weights = model.get_weights()\n",
    "coef = weights[0]  # Weights\n",
    "intercept = weights[1]  # Biases/Intercepts\n"
   ]
  },
  {
   "cell_type": "code",
   "execution_count": 66,
   "id": "3f7a0b66",
   "metadata": {},
   "outputs": [
    {
     "data": {
      "text/plain": [
       "array([[ 0.05749331,  0.06708127, -0.04583209, ...,  0.06678388,\n",
       "         0.0362547 ,  0.0147094 ],\n",
       "       [-0.040124  ,  0.02063839,  0.04805547, ..., -0.03307821,\n",
       "         0.03860068, -0.06412226],\n",
       "       [-0.07876868, -0.05237087,  0.01499863, ..., -0.04215119,\n",
       "        -0.02622889, -0.01289371],\n",
       "       ...,\n",
       "       [-0.07922026,  0.00399546, -0.07421625, ...,  0.06719096,\n",
       "        -0.05686076, -0.04963802],\n",
       "       [-0.02337448, -0.04360771, -0.07002467, ...,  0.06270722,\n",
       "         0.07214677, -0.01651414],\n",
       "       [ 0.03386238, -0.02700426, -0.02408559, ..., -0.07679036,\n",
       "         0.00892572, -0.01892451]], dtype=float32)"
      ]
     },
     "execution_count": 66,
     "metadata": {},
     "output_type": "execute_result"
    }
   ],
   "source": [
    "coef"
   ]
  },
  {
   "cell_type": "code",
   "execution_count": null,
   "id": "b15712b1",
   "metadata": {},
   "outputs": [],
   "source": []
  },
  {
   "cell_type": "code",
   "execution_count": null,
   "id": "6da31aba",
   "metadata": {},
   "outputs": [],
   "source": []
  }
 ],
 "metadata": {
  "kernelspec": {
   "display_name": "Python 3 (ipykernel)",
   "language": "python",
   "name": "python3"
  },
  "language_info": {
   "codemirror_mode": {
    "name": "ipython",
    "version": 3
   },
   "file_extension": ".py",
   "mimetype": "text/x-python",
   "name": "python",
   "nbconvert_exporter": "python",
   "pygments_lexer": "ipython3",
   "version": "3.11.5"
  }
 },
 "nbformat": 4,
 "nbformat_minor": 5
}
