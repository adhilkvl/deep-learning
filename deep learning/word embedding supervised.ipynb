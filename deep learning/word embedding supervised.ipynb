{
 "cells": [
  {
   "cell_type": "code",
   "execution_count": 2,
   "id": "07d317cd",
   "metadata": {},
   "outputs": [],
   "source": [
    "import numpy as np\n",
    "from tensorflow.keras.preprocessing.text import one_hot\n",
    "from tensorflow.keras.preprocessing.sequence import pad_sequences\n",
    "from tensorflow.keras.models import Sequential\n",
    "from tensorflow.keras.layers import Dense\n",
    "from tensorflow.keras.layers import Flatten\n",
    "from tensorflow.keras.layers import Embedding\n",
    "from tensorflow.compat.v1.losses import sparse_softmax_cross_entropy\n"
   ]
  },
  {
   "cell_type": "code",
   "execution_count": 3,
   "id": "370b8407",
   "metadata": {},
   "outputs": [],
   "source": [
    "reviews = ['nice food',\n",
    "        'amazing restaurant',\n",
    "        'too good',\n",
    "        'just loved it!',\n",
    "        'will go again',\n",
    "        'horrible food',\n",
    "        'never go there',\n",
    "        'poor service',\n",
    "        'poor quality',\n",
    "        'needs improvement']\n",
    "\n",
    "sentiment = np.array([1,1,1,1,1,0,0,0,0,0])"
   ]
  },
  {
   "cell_type": "code",
   "execution_count": 4,
   "id": "ae7ae568",
   "metadata": {},
   "outputs": [
    {
     "data": {
      "text/plain": [
       "[22, 3]"
      ]
     },
     "execution_count": 4,
     "metadata": {},
     "output_type": "execute_result"
    }
   ],
   "source": [
    "one_hot(\"amazing restaurant\",30)"
   ]
  },
  {
   "cell_type": "code",
   "execution_count": 6,
   "id": "a48e8398",
   "metadata": {},
   "outputs": [
    {
     "data": {
      "text/plain": [
       "[[29, 2],\n",
       " [22, 3],\n",
       " [26, 15],\n",
       " [13, 18, 29],\n",
       " [16, 4, 8],\n",
       " [26, 2],\n",
       " [28, 4, 24],\n",
       " [27, 28],\n",
       " [27, 20],\n",
       " [14, 29]]"
      ]
     },
     "execution_count": 6,
     "metadata": {},
     "output_type": "execute_result"
    }
   ],
   "source": [
    "vocab_size=30\n",
    "\n",
    "encoded_reviews=[one_hot(d,vocab_size)for d in reviews]\n",
    "encoded_reviews"
   ]
  },
  {
   "cell_type": "code",
   "execution_count": 7,
   "id": "6038e946",
   "metadata": {},
   "outputs": [
    {
     "data": {
      "text/plain": [
       "array([[29,  2,  0],\n",
       "       [22,  3,  0],\n",
       "       [26, 15,  0],\n",
       "       [13, 18, 29],\n",
       "       [16,  4,  8],\n",
       "       [26,  2,  0],\n",
       "       [28,  4, 24],\n",
       "       [27, 28,  0],\n",
       "       [27, 20,  0],\n",
       "       [14, 29,  0]])"
      ]
     },
     "execution_count": 7,
     "metadata": {},
     "output_type": "execute_result"
    }
   ],
   "source": [
    "max_length=3\n",
    "padded_reviews = pad_sequences(encoded_reviews, maxlen=max_length, padding='post')\n",
    "padded_reviews"
   ]
  },
  {
   "cell_type": "code",
   "execution_count": 8,
   "id": "a6a1761f",
   "metadata": {},
   "outputs": [
    {
     "name": "stdout",
     "output_type": "stream",
     "text": [
      "WARNING:tensorflow:From C:\\Users\\hp\\anaconda3\\Lib\\site-packages\\keras\\src\\backend.py:873: The name tf.get_default_graph is deprecated. Please use tf.compat.v1.get_default_graph instead.\n",
      "\n"
     ]
    }
   ],
   "source": [
    "embeded_vector_size = 5\n",
    "\n",
    "model = Sequential()\n",
    "model.add(Embedding(vocab_size, embeded_vector_size, input_length=max_length,name=\"embedding\"))\n",
    "model.add(Flatten())\n",
    "model.add(Dense(1, activation='sigmoid'))"
   ]
  },
  {
   "cell_type": "code",
   "execution_count": 9,
   "id": "d73a7886",
   "metadata": {},
   "outputs": [],
   "source": [
    "\n",
    "X = padded_reviews\n",
    "y = sentiment"
   ]
  },
  {
   "cell_type": "code",
   "execution_count": 10,
   "id": "42685ff9",
   "metadata": {},
   "outputs": [
    {
     "name": "stdout",
     "output_type": "stream",
     "text": [
      "WARNING:tensorflow:From C:\\Users\\hp\\anaconda3\\Lib\\site-packages\\keras\\src\\optimizers\\__init__.py:309: The name tf.train.Optimizer is deprecated. Please use tf.compat.v1.train.Optimizer instead.\n",
      "\n",
      "Model: \"sequential\"\n",
      "_________________________________________________________________\n",
      " Layer (type)                Output Shape              Param #   \n",
      "=================================================================\n",
      " embedding (Embedding)       (None, 3, 5)              150       \n",
      "                                                                 \n",
      " flatten (Flatten)           (None, 15)                0         \n",
      "                                                                 \n",
      " dense (Dense)               (None, 1)                 16        \n",
      "                                                                 \n",
      "=================================================================\n",
      "Total params: 166 (664.00 Byte)\n",
      "Trainable params: 166 (664.00 Byte)\n",
      "Non-trainable params: 0 (0.00 Byte)\n",
      "_________________________________________________________________\n",
      "None\n"
     ]
    }
   ],
   "source": [
    "model.compile(optimizer='adam', loss='binary_crossentropy', metrics=['accuracy'])\n",
    "print(model.summary())"
   ]
  },
  {
   "cell_type": "code",
   "execution_count": 11,
   "id": "91d65ada",
   "metadata": {},
   "outputs": [
    {
     "name": "stdout",
     "output_type": "stream",
     "text": [
      "WARNING:tensorflow:From C:\\Users\\hp\\anaconda3\\Lib\\site-packages\\keras\\src\\utils\\tf_utils.py:492: The name tf.ragged.RaggedTensorValue is deprecated. Please use tf.compat.v1.ragged.RaggedTensorValue instead.\n",
      "\n",
      "WARNING:tensorflow:From C:\\Users\\hp\\anaconda3\\Lib\\site-packages\\keras\\src\\engine\\base_layer_utils.py:384: The name tf.executing_eagerly_outside_functions is deprecated. Please use tf.compat.v1.executing_eagerly_outside_functions instead.\n",
      "\n"
     ]
    },
    {
     "data": {
      "text/plain": [
       "<keras.src.callbacks.History at 0x1d4c26d4550>"
      ]
     },
     "execution_count": 11,
     "metadata": {},
     "output_type": "execute_result"
    }
   ],
   "source": [
    "model.fit(X, y, epochs=50, verbose=0)"
   ]
  },
  {
   "cell_type": "code",
   "execution_count": 12,
   "id": "3a970b8a",
   "metadata": {},
   "outputs": [
    {
     "name": "stdout",
     "output_type": "stream",
     "text": [
      "1/1 [==============================] - 0s 190ms/step - loss: 0.6407 - accuracy: 1.0000\n"
     ]
    },
    {
     "data": {
      "text/plain": [
       "1.0"
      ]
     },
     "execution_count": 12,
     "metadata": {},
     "output_type": "execute_result"
    }
   ],
   "source": [
    "loss, accuracy = model.evaluate(X, y)\n",
    "accuracy"
   ]
  },
  {
   "cell_type": "code",
   "execution_count": 14,
   "id": "503b1ceb",
   "metadata": {},
   "outputs": [
    {
     "data": {
      "text/plain": [
       "array([[-4.89718169e-02, -9.65712517e-02, -7.01138675e-02,\n",
       "        -1.44302621e-02, -2.75799707e-02],\n",
       "       [ 1.89033039e-02,  2.68577449e-02,  3.02799009e-02,\n",
       "        -3.06964163e-02, -2.97040474e-02],\n",
       "       [ 1.48057714e-02,  4.91793454e-03, -5.01881838e-02,\n",
       "        -9.19120573e-03,  4.76659611e-02],\n",
       "       [ 9.41013619e-02, -9.75510776e-02, -8.70364457e-02,\n",
       "        -4.31768298e-02,  1.00290338e-02],\n",
       "       [-1.38426339e-02, -1.57074593e-02,  3.07228472e-02,\n",
       "        -4.72305622e-03, -2.27493118e-03],\n",
       "       [-2.94780377e-02,  2.16229074e-02, -3.77551205e-02,\n",
       "         2.12617181e-02,  4.25846688e-02],\n",
       "       [-4.58459370e-02,  9.60461050e-03,  3.82972620e-02,\n",
       "         4.73576300e-02, -4.06580940e-02],\n",
       "       [ 6.89436123e-03, -2.21824404e-02, -3.57169621e-02,\n",
       "        -3.75881791e-05,  2.00402476e-02],\n",
       "       [ 3.90158072e-02,  8.15224275e-03,  8.73327255e-03,\n",
       "         9.15926602e-03,  9.62204784e-02],\n",
       "       [-4.09375504e-03, -2.04125792e-03,  4.89750616e-02,\n",
       "        -2.73854136e-02, -3.80361304e-02],\n",
       "       [ 4.70902063e-02, -3.99103872e-02,  1.19200945e-02,\n",
       "        -3.84425893e-02, -4.79213260e-02],\n",
       "       [ 9.00775194e-03,  4.13684510e-02, -3.06554567e-02,\n",
       "        -4.92580310e-02, -2.22203378e-02],\n",
       "       [ 7.99713284e-03, -1.22884512e-02, -2.21082456e-02,\n",
       "         3.71853597e-02, -3.96774411e-02],\n",
       "       [ 5.64302467e-02,  4.95050149e-03, -3.81252542e-02,\n",
       "         8.08951408e-02, -4.26355787e-02],\n",
       "       [-9.65128019e-02, -2.29430031e-02,  3.45146582e-02,\n",
       "        -4.27492969e-02,  4.17771637e-02],\n",
       "       [ 7.91611522e-02, -7.48152509e-02, -2.76305787e-02,\n",
       "        -3.98820080e-02,  6.18859567e-02],\n",
       "       [ 1.57366954e-02,  7.80551732e-02, -1.37884449e-02,\n",
       "         5.94487414e-02, -6.09477609e-02],\n",
       "       [-1.13729946e-02, -3.93226147e-02,  1.20587833e-02,\n",
       "        -4.19721827e-02,  4.04947996e-03],\n",
       "       [ 2.23430526e-02, -8.36656019e-02, -3.35996486e-02,\n",
       "        -8.11066180e-02,  7.16733187e-02],\n",
       "       [ 4.06190269e-02,  1.01268888e-02, -1.05148181e-02,\n",
       "        -4.40512411e-02,  2.35699452e-02],\n",
       "       [-6.84971958e-02,  6.63345978e-02,  3.01133227e-02,\n",
       "         1.96117945e-02, -5.85845392e-03],\n",
       "       [-3.13137844e-03, -2.60915756e-02, -3.19721103e-02,\n",
       "         4.58624624e-02, -8.11073929e-03],\n",
       "       [ 5.03270850e-02,  4.74547260e-02, -5.87227475e-03,\n",
       "         9.77551639e-02, -3.36291008e-02],\n",
       "       [-1.95329189e-02, -4.68728319e-02, -3.23981196e-02,\n",
       "        -1.80198997e-03,  4.64519970e-02],\n",
       "       [-1.64104020e-03, -8.13904926e-02, -2.16920935e-02,\n",
       "        -7.47883320e-02, -8.40862393e-02],\n",
       "       [-1.63331144e-02, -1.17084756e-02,  1.19762309e-02,\n",
       "        -1.60805471e-02,  3.40741612e-02],\n",
       "       [-6.63896650e-02, -1.23655871e-02,  7.46316276e-03,\n",
       "        -6.11295663e-02,  2.93594133e-02],\n",
       "       [-7.23125339e-02, -1.81489568e-02,  7.44663551e-02,\n",
       "        -3.77059132e-02,  7.01969415e-02],\n",
       "       [-7.90394917e-02, -6.16598614e-02,  9.59969908e-02,\n",
       "         2.33802628e-02, -1.00272167e-02],\n",
       "       [-6.38249069e-02,  5.81657067e-02,  5.88580929e-02,\n",
       "         3.93533222e-02, -2.90203243e-02]], dtype=float32)"
      ]
     },
     "execution_count": 14,
     "metadata": {},
     "output_type": "execute_result"
    }
   ],
   "source": [
    "weights = model.get_layer('embedding').get_weights()[0]\n",
    "weights"
   ]
  },
  {
   "cell_type": "code",
   "execution_count": 15,
   "id": "eacbe8aa",
   "metadata": {},
   "outputs": [
    {
     "data": {
      "text/plain": [
       "30"
      ]
     },
     "execution_count": 15,
     "metadata": {},
     "output_type": "execute_result"
    }
   ],
   "source": [
    "len(weights)"
   ]
  },
  {
   "cell_type": "code",
   "execution_count": 16,
   "id": "5a06453d",
   "metadata": {},
   "outputs": [
    {
     "data": {
      "text/plain": [
       "array([ 0.00900775,  0.04136845, -0.03065546, -0.04925803, -0.02222034],\n",
       "      dtype=float32)"
      ]
     },
     "execution_count": 16,
     "metadata": {},
     "output_type": "execute_result"
    }
   ],
   "source": [
    "weights[11]"
   ]
  },
  {
   "cell_type": "code",
   "execution_count": 17,
   "id": "58547383",
   "metadata": {},
   "outputs": [
    {
     "data": {
      "text/plain": [
       "array([ 0.09410136, -0.09755108, -0.08703645, -0.04317683,  0.01002903],\n",
       "      dtype=float32)"
      ]
     },
     "execution_count": 17,
     "metadata": {},
     "output_type": "execute_result"
    }
   ],
   "source": [
    "weights[3]"
   ]
  },
  {
   "cell_type": "code",
   "execution_count": null,
   "id": "76923644",
   "metadata": {},
   "outputs": [],
   "source": []
  }
 ],
 "metadata": {
  "kernelspec": {
   "display_name": "Python 3 (ipykernel)",
   "language": "python",
   "name": "python3"
  },
  "language_info": {
   "codemirror_mode": {
    "name": "ipython",
    "version": 3
   },
   "file_extension": ".py",
   "mimetype": "text/x-python",
   "name": "python",
   "nbconvert_exporter": "python",
   "pygments_lexer": "ipython3",
   "version": "3.11.5"
  }
 },
 "nbformat": 4,
 "nbformat_minor": 5
}
